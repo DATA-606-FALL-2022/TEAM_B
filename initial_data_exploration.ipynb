{
 "cells": [
  {
   "cell_type": "markdown",
   "id": "ccf6ed15",
   "metadata": {},
   "source": [
    "## Importing Libraries"
   ]
  },
  {
   "cell_type": "code",
   "execution_count": 7,
   "id": "f76f3d28",
   "metadata": {},
   "outputs": [],
   "source": [
    "import os\n",
    "import numpy as np\n",
    "import pandas as pd\n",
    "import matplotlib.pyplot as plt\n",
    "import seaborn as sns"
   ]
  },
  {
   "cell_type": "markdown",
   "id": "5ca6388a",
   "metadata": {},
   "source": [
    "## 1) Reading the dataset into dataframe"
   ]
  },
  {
   "cell_type": "code",
   "execution_count": 8,
   "id": "a95c295a",
   "metadata": {},
   "outputs": [
    {
     "data": {
      "text/html": [
       "<div>\n",
       "<style scoped>\n",
       "    .dataframe tbody tr th:only-of-type {\n",
       "        vertical-align: middle;\n",
       "    }\n",
       "\n",
       "    .dataframe tbody tr th {\n",
       "        vertical-align: top;\n",
       "    }\n",
       "\n",
       "    .dataframe thead th {\n",
       "        text-align: right;\n",
       "    }\n",
       "</style>\n",
       "<table border=\"1\" class=\"dataframe\">\n",
       "  <thead>\n",
       "    <tr style=\"text-align: right;\">\n",
       "      <th></th>\n",
       "      <th>Tweet</th>\n",
       "      <th>Label</th>\n",
       "    </tr>\n",
       "  </thead>\n",
       "  <tbody>\n",
       "    <tr>\n",
       "      <th>0</th>\n",
       "      <td>A little throwback with my favourite person @ ...</td>\n",
       "      <td>0</td>\n",
       "    </tr>\n",
       "    <tr>\n",
       "      <th>1</th>\n",
       "      <td>glam on @user yesterday for #kcon makeup using...</td>\n",
       "      <td>7</td>\n",
       "    </tr>\n",
       "    <tr>\n",
       "      <th>2</th>\n",
       "      <td>Democracy Plaza in the wake of a stunning outc...</td>\n",
       "      <td>11</td>\n",
       "    </tr>\n",
       "    <tr>\n",
       "      <th>3</th>\n",
       "      <td>Then &amp;amp; Now. VILO @ Walt Disney Magic Kingdom</td>\n",
       "      <td>0</td>\n",
       "    </tr>\n",
       "    <tr>\n",
       "      <th>4</th>\n",
       "      <td>Who never... @ A Galaxy Far Far Away</td>\n",
       "      <td>2</td>\n",
       "    </tr>\n",
       "    <tr>\n",
       "      <th>...</th>\n",
       "      <td>...</td>\n",
       "      <td>...</td>\n",
       "    </tr>\n",
       "    <tr>\n",
       "      <th>49995</th>\n",
       "      <td>My #O2otd Love this chain so much and our new ...</td>\n",
       "      <td>1</td>\n",
       "    </tr>\n",
       "    <tr>\n",
       "      <th>49996</th>\n",
       "      <td>Met Santa and Olaf @ the North Pole today @ No...</td>\n",
       "      <td>0</td>\n",
       "    </tr>\n",
       "    <tr>\n",
       "      <th>49997</th>\n",
       "      <td>New York by Night Strideby #HERElocationNYC......</td>\n",
       "      <td>11</td>\n",
       "    </tr>\n",
       "    <tr>\n",
       "      <th>49998</th>\n",
       "      <td>Kisses for the birthday girl! @ Helzberg Diamonds</td>\n",
       "      <td>0</td>\n",
       "    </tr>\n",
       "    <tr>\n",
       "      <th>49999</th>\n",
       "      <td>Dinner with this priceless view!Thank you, S #...</td>\n",
       "      <td>9</td>\n",
       "    </tr>\n",
       "  </tbody>\n",
       "</table>\n",
       "<p>50000 rows × 2 columns</p>\n",
       "</div>"
      ],
      "text/plain": [
       "                                                   Tweet  Label\n",
       "0      A little throwback with my favourite person @ ...      0\n",
       "1      glam on @user yesterday for #kcon makeup using...      7\n",
       "2      Democracy Plaza in the wake of a stunning outc...     11\n",
       "3       Then &amp; Now. VILO @ Walt Disney Magic Kingdom      0\n",
       "4                   Who never... @ A Galaxy Far Far Away      2\n",
       "...                                                  ...    ...\n",
       "49995  My #O2otd Love this chain so much and our new ...      1\n",
       "49996  Met Santa and Olaf @ the North Pole today @ No...      0\n",
       "49997  New York by Night Strideby #HERElocationNYC......     11\n",
       "49998  Kisses for the birthday girl! @ Helzberg Diamonds      0\n",
       "49999  Dinner with this priceless view!Thank you, S #...      9\n",
       "\n",
       "[50000 rows x 2 columns]"
      ]
     },
     "execution_count": 8,
     "metadata": {},
     "output_type": "execute_result"
    }
   ],
   "source": [
    "#Creating a dataframe called emoji_data\n",
    "emoji_data = pd.read_csv(\"twitter_data.csv\")\n",
    "emoji_data"
   ]
  },
  {
   "cell_type": "code",
   "execution_count": 9,
   "id": "9b549a13",
   "metadata": {},
   "outputs": [
    {
     "data": {
      "text/html": [
       "<div>\n",
       "<style scoped>\n",
       "    .dataframe tbody tr th:only-of-type {\n",
       "        vertical-align: middle;\n",
       "    }\n",
       "\n",
       "    .dataframe tbody tr th {\n",
       "        vertical-align: top;\n",
       "    }\n",
       "\n",
       "    .dataframe thead th {\n",
       "        text-align: right;\n",
       "    }\n",
       "</style>\n",
       "<table border=\"1\" class=\"dataframe\">\n",
       "  <thead>\n",
       "    <tr style=\"text-align: right;\">\n",
       "      <th></th>\n",
       "      <th>Tweet</th>\n",
       "      <th>Label</th>\n",
       "    </tr>\n",
       "  </thead>\n",
       "  <tbody>\n",
       "    <tr>\n",
       "      <th>0</th>\n",
       "      <td>A little throwback with my favourite person @ ...</td>\n",
       "      <td>0</td>\n",
       "    </tr>\n",
       "    <tr>\n",
       "      <th>1</th>\n",
       "      <td>glam on @user yesterday for #kcon makeup using...</td>\n",
       "      <td>7</td>\n",
       "    </tr>\n",
       "    <tr>\n",
       "      <th>2</th>\n",
       "      <td>Democracy Plaza in the wake of a stunning outc...</td>\n",
       "      <td>11</td>\n",
       "    </tr>\n",
       "    <tr>\n",
       "      <th>3</th>\n",
       "      <td>Then &amp;amp; Now. VILO @ Walt Disney Magic Kingdom</td>\n",
       "      <td>0</td>\n",
       "    </tr>\n",
       "    <tr>\n",
       "      <th>4</th>\n",
       "      <td>Who never... @ A Galaxy Far Far Away</td>\n",
       "      <td>2</td>\n",
       "    </tr>\n",
       "    <tr>\n",
       "      <th>5</th>\n",
       "      <td>Dinner in FLA tonight // Pan-seared salmon ove...</td>\n",
       "      <td>1</td>\n",
       "    </tr>\n",
       "    <tr>\n",
       "      <th>6</th>\n",
       "      <td>It's my fav seniors last game congrats on beat...</td>\n",
       "      <td>8</td>\n",
       "    </tr>\n",
       "    <tr>\n",
       "      <th>7</th>\n",
       "      <td>I got to to go formal with my best friend @ Ph...</td>\n",
       "      <td>0</td>\n",
       "    </tr>\n",
       "    <tr>\n",
       "      <th>8</th>\n",
       "      <td>'Cause I Miss My Little Homies .#Throwback #Co...</td>\n",
       "      <td>13</td>\n",
       "    </tr>\n",
       "    <tr>\n",
       "      <th>9</th>\n",
       "      <td>Birthday Kisses @ Madison, Wisconsin</td>\n",
       "      <td>9</td>\n",
       "    </tr>\n",
       "  </tbody>\n",
       "</table>\n",
       "</div>"
      ],
      "text/plain": [
       "                                               Tweet  Label\n",
       "0  A little throwback with my favourite person @ ...      0\n",
       "1  glam on @user yesterday for #kcon makeup using...      7\n",
       "2  Democracy Plaza in the wake of a stunning outc...     11\n",
       "3   Then &amp; Now. VILO @ Walt Disney Magic Kingdom      0\n",
       "4               Who never... @ A Galaxy Far Far Away      2\n",
       "5  Dinner in FLA tonight // Pan-seared salmon ove...      1\n",
       "6  It's my fav seniors last game congrats on beat...      8\n",
       "7  I got to to go formal with my best friend @ Ph...      0\n",
       "8  'Cause I Miss My Little Homies .#Throwback #Co...     13\n",
       "9               Birthday Kisses @ Madison, Wisconsin      9"
      ]
     },
     "execution_count": 9,
     "metadata": {},
     "output_type": "execute_result"
    }
   ],
   "source": [
    "emoji_data.head(10)"
   ]
  },
  {
   "cell_type": "markdown",
   "id": "abdc182c",
   "metadata": {},
   "source": [
    "## 2) Find out number of observatoins and columns"
   ]
  },
  {
   "cell_type": "code",
   "execution_count": 5,
   "id": "45c80f94",
   "metadata": {},
   "outputs": [
    {
     "data": {
      "text/plain": [
       "(50000, 2)"
      ]
     },
     "execution_count": 5,
     "metadata": {},
     "output_type": "execute_result"
    }
   ],
   "source": [
    "emoji_data.shape"
   ]
  },
  {
   "cell_type": "markdown",
   "id": "02e1c617",
   "metadata": {},
   "source": [
    "### From the above we can see that there are 50000 observations and 2 columns"
   ]
  },
  {
   "cell_type": "markdown",
   "id": "94a9e5e7",
   "metadata": {},
   "source": [
    "### 3) Column data types"
   ]
  },
  {
   "cell_type": "code",
   "execution_count": 24,
   "id": "cf1a67e5",
   "metadata": {},
   "outputs": [
    {
     "name": "stdout",
     "output_type": "stream",
     "text": [
      "<class 'pandas.core.frame.DataFrame'>\n",
      "RangeIndex: 50000 entries, 0 to 49999\n",
      "Data columns (total 2 columns):\n",
      " #   Column  Non-Null Count  Dtype \n",
      "---  ------  --------------  ----- \n",
      " 0   Tweet   50000 non-null  object\n",
      " 1   Label   50000 non-null  int64 \n",
      "dtypes: int64(1), object(1)\n",
      "memory usage: 781.4+ KB\n"
     ]
    }
   ],
   "source": [
    "emoji_data.info()"
   ]
  },
  {
   "cell_type": "code",
   "execution_count": 25,
   "id": "c53b81d2",
   "metadata": {},
   "outputs": [
    {
     "data": {
      "text/plain": [
       "Tweet    object\n",
       "Label     int64\n",
       "dtype: object"
      ]
     },
     "execution_count": 25,
     "metadata": {},
     "output_type": "execute_result"
    }
   ],
   "source": [
    "emoji_data.dtypes"
   ]
  },
  {
   "cell_type": "markdown",
   "id": "867736f5",
   "metadata": {},
   "source": [
    "## 4) Checking for number of unique categories for categorical variables."
   ]
  },
  {
   "cell_type": "code",
   "execution_count": 26,
   "id": "1e3778fa",
   "metadata": {},
   "outputs": [
    {
     "name": "stdout",
     "output_type": "stream",
     "text": [
      "49767\n"
     ]
    }
   ],
   "source": [
    "print(emoji_data[\"Tweet\"].nunique())"
   ]
  },
  {
   "cell_type": "code",
   "execution_count": 10,
   "id": "1277b1c8",
   "metadata": {},
   "outputs": [
    {
     "data": {
      "text/plain": [
       "@ New York, New York                                                                            25\n",
       "@ Los Angeles, California                                                                       15\n",
       "@ Disney's Magic Kingdom                                                                        13\n",
       "@ Epcot - Walt Disney World                                                                      7\n",
       "@ Times Square, New York City                                                                    6\n",
       "                                                                                                ..\n",
       "#Repost @user wee video... #SpiritAnimals #RotofugiGallery #FauxTaxidermy…                       1\n",
       "Round 2 for Walking Tacos! Come quick while supplies last Hope everyone has a great day!…        1\n",
       "Love all the artwork at the z lot : electriclindsayland @ The Z                                  1\n",
       "See you in 2 months, Baby Lana! @ La Macro                                                       1\n",
       "Dinner with this priceless view!Thank you, S #anniversarydinner #columbuscircle #august23rd…     1\n",
       "Name: Tweet, Length: 49767, dtype: int64"
      ]
     },
     "execution_count": 10,
     "metadata": {},
     "output_type": "execute_result"
    }
   ],
   "source": [
    "emoji_data['Tweet'].value_counts()"
   ]
  },
  {
   "cell_type": "markdown",
   "id": "955ea709",
   "metadata": {},
   "source": [
    "## 5) Checking for missing values"
   ]
  },
  {
   "cell_type": "code",
   "execution_count": 27,
   "id": "59e4d037",
   "metadata": {},
   "outputs": [
    {
     "data": {
      "text/plain": [
       "Tweet    0\n",
       "Label    0\n",
       "dtype: int64"
      ]
     },
     "execution_count": 27,
     "metadata": {},
     "output_type": "execute_result"
    }
   ],
   "source": [
    "emoji_data.isnull().sum()"
   ]
  },
  {
   "cell_type": "markdown",
   "id": "03066f8b",
   "metadata": {},
   "source": [
    "### 6) Identify potential features for machine learning (some columns may not have predictive power)"
   ]
  },
  {
   "cell_type": "markdown",
   "id": "887b5eee",
   "metadata": {},
   "source": [
    "#### Ans: Dataset consists of two columns(Tweet,Label). Both the columns have predictive power"
   ]
  },
  {
   "cell_type": "markdown",
   "id": "874bf989",
   "metadata": {},
   "source": [
    "### 7) Identify the target column "
   ]
  },
  {
   "cell_type": "markdown",
   "id": "6f193454",
   "metadata": {},
   "source": [
    "#### Ans: Label is the target variable. With the help of the \"Tweet\" feature, we are going to predict emojis. For example, if the tweet is mentioned as \"Love my work family Thank you\" then the label assigned to it is 0 and the corresponding emoji for that label 0 is ❤️"
   ]
  },
  {
   "cell_type": "markdown",
   "id": "c5d1cb35",
   "metadata": {},
   "source": [
    "### 8) Look at the distribution of the target columns. for categorical type, find out if it is imblanced. For numeric type, see how it is distributed  (summary statistics, boxplot, histogram)."
   ]
  },
  {
   "cell_type": "code",
   "execution_count": 23,
   "id": "6c3f67bb",
   "metadata": {},
   "outputs": [
    {
     "data": {
      "image/png": "[encoded data removed]",
      "text/plain": [
       "<Figure size 720x720 with 1 Axes>"
      ]
     },
     "metadata": {
      "needs_background": "light"
     },
     "output_type": "display_data"
    }
   ],
   "source": [
    "## Since the target column is 'Label' we are going to find out the distribution of it\n",
    "plt.figure(figsize=(10,10))\n",
    "sns.countplot(x=\"Label\", data=emoji_data, palette=\"viridis\")\n",
    "plt.show()"
   ]
  },
  {
   "cell_type": "code",
   "execution_count": 12,
   "id": "12b874ef",
   "metadata": {},
   "outputs": [
    {
     "data": {
      "text/plain": [
       "0     10760\n",
       "1      5279\n",
       "2      5241\n",
       "3      2885\n",
       "4      2517\n",
       "5      2317\n",
       "6      2049\n",
       "7      1894\n",
       "8      1796\n",
       "9      1671\n",
       "10     1544\n",
       "11     1528\n",
       "12     1462\n",
       "14     1377\n",
       "13     1346\n",
       "16     1306\n",
       "18     1286\n",
       "17     1279\n",
       "15     1249\n",
       "19     1214\n",
       "Name: Label, dtype: int64"
      ]
     },
     "execution_count": 12,
     "metadata": {},
     "output_type": "execute_result"
    }
   ],
   "source": [
    "\n",
    "emoji_data['Label'].value_counts()"
   ]
  },
  {
   "cell_type": "code",
   "execution_count": null,
   "id": "fabeb6b7",
   "metadata": {},
   "outputs": [],
   "source": []
  }
 ],
 "metadata": {
  "kernelspec": {
   "display_name": "Python 3 (ipykernel)",
   "language": "python",
   "name": "python3"
  },
  "language_info": {
   "codemirror_mode": {
    "name": "ipython",
    "version": 3
   },
   "file_extension": ".py",
   "mimetype": "text/x-python",
   "name": "python",
   "nbconvert_exporter": "python",
   "pygments_lexer": "ipython3",
   "version": "3.9.7"
  }
 },
 "nbformat": 4,
 "nbformat_minor": 5
}
