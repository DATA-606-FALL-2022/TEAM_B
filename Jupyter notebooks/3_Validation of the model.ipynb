{
 "cells": [
  {
   "cell_type": "markdown",
   "id": "91ae0678",
   "metadata": {},
   "source": [
    "## Importing libraries"
   ]
  },
  {
   "cell_type": "code",
   "execution_count": 1,
   "id": "f29aa48d",
   "metadata": {},
   "outputs": [],
   "source": [
    "import os\n",
    "import numpy as np\n",
    "import pandas as pd\n",
    "import matplotlib.pyplot as plt\n",
    "import seaborn as sns\n",
    "import pickle\n",
    "import tensorflow.keras"
   ]
  },
  {
   "cell_type": "markdown",
   "id": "796ce844",
   "metadata": {},
   "source": [
    "## Load Sample data from tweets data to check prediction"
   ]
  },
  {
   "cell_type": "code",
   "execution_count": 2,
   "id": "b63ee4c7",
   "metadata": {},
   "outputs": [],
   "source": [
    "emoji_data = pd.read_csv(\"Cleaned_Twitter_Data.csv\").sample(n=6)\n",
    "emoji_data.dropna(inplace=True)\n",
    "X = emoji_data[\"Tweet\"].values\n",
    "y = emoji_data[\"Label\"].values"
   ]
  },
  {
   "cell_type": "markdown",
   "id": "a5b7ee2e",
   "metadata": {},
   "source": [
    "## Mapping Emojis to the labels assigned on tweet"
   ]
  },
  {
   "cell_type": "code",
   "execution_count": 3,
   "id": "c4f327f8",
   "metadata": {},
   "outputs": [],
   "source": [
    "emoji_raw = open('us_mapping.txt','r',encoding=\"utf8\")\n",
    "emojis=[]\n",
    "for sentence in emoji_raw:\n",
    "    sentence = sentence.rstrip()\n",
    "    emojis.append(sentence) \n",
    "emoji_dict={}\n",
    "for e in emojis:\n",
    "    idx = int(e.split()[0])\n",
    "    emoji = e.split()[1]\n",
    "    emoji_dict[idx] = emoji"
   ]
  },
  {
   "cell_type": "markdown",
   "id": "2a00525f",
   "metadata": {},
   "source": [
    "## To Perform tokenization on data"
   ]
  },
  {
   "cell_type": "code",
   "execution_count": 4,
   "id": "3996e4c8",
   "metadata": {},
   "outputs": [],
   "source": [
    "from tensorflow.keras.preprocessing.sequence import pad_sequences\n",
    "tokenizer = pickle.load(open(\"text_tweet_tokenization\",'rb'))\n",
    "def preprocess_text_tweet(X):\n",
    "    max_len=40\n",
    "    X_sequence = tokenizer.texts_to_sequences(X)\n",
    "    X_sequence_padding = pad_sequences(X_sequence, truncating=\"pre\", padding=\"pre\", maxlen=max_len)\n",
    "    return X_sequence_padding"
   ]
  },
  {
   "cell_type": "code",
   "execution_count": 5,
   "id": "df4276e5",
   "metadata": {},
   "outputs": [
    {
     "name": "stdout",
     "output_type": "stream",
     "text": [
      "Model: \"sequential\"\n",
      "_________________________________________________________________\n",
      "Layer (type)                 Output Shape              Param #   \n",
      "=================================================================\n",
      "embedding (Embedding)        (None, 40, 128)           8022016   \n",
      "_________________________________________________________________\n",
      "bidirectional (Bidirectional (None, 40, 160)           133760    \n",
      "_________________________________________________________________\n",
      "bidirectional_1 (Bidirection (None, 40, 160)           154240    \n",
      "_________________________________________________________________\n",
      "global_max_pooling1d (Global (None, 160)               0         \n",
      "_________________________________________________________________\n",
      "dropout (Dropout)            (None, 160)               0         \n",
      "_________________________________________________________________\n",
      "dense (Dense)                (None, 64)                10304     \n",
      "_________________________________________________________________\n",
      "dropout_1 (Dropout)          (None, 64)                0         \n",
      "_________________________________________________________________\n",
      "dense_1 (Dense)              (None, 20)                1300      \n",
      "=================================================================\n",
      "Total params: 8,321,620\n",
      "Trainable params: 8,321,620\n",
      "Non-trainable params: 0\n",
      "_________________________________________________________________\n"
     ]
    }
   ],
   "source": [
    "from tensorflow import keras\n",
    "model = keras.models.load_model(\"BLSTM.h5\", compile=False)\n",
    "model.summary()"
   ]
  },
  {
   "cell_type": "code",
   "execution_count": 6,
   "id": "11e9c539",
   "metadata": {},
   "outputs": [
    {
     "data": {
      "text/html": [
       "<div>\n",
       "<style scoped>\n",
       "    .dataframe tbody tr th:only-of-type {\n",
       "        vertical-align: middle;\n",
       "    }\n",
       "\n",
       "    .dataframe tbody tr th {\n",
       "        vertical-align: top;\n",
       "    }\n",
       "\n",
       "    .dataframe thead th {\n",
       "        text-align: right;\n",
       "    }\n",
       "</style>\n",
       "<table border=\"1\" class=\"dataframe\">\n",
       "  <thead>\n",
       "    <tr style=\"text-align: right;\">\n",
       "      <th></th>\n",
       "      <th>Tweet</th>\n",
       "      <th>True</th>\n",
       "      <th>Predicted</th>\n",
       "    </tr>\n",
       "  </thead>\n",
       "  <tbody>\n",
       "    <tr>\n",
       "      <th>0</th>\n",
       "      <td>celebration game</td>\n",
       "      <td>💯</td>\n",
       "      <td>💯</td>\n",
       "    </tr>\n",
       "    <tr>\n",
       "      <th>1</th>\n",
       "      <td>selfie time jessicov   snowbasin resort</td>\n",
       "      <td>😜</td>\n",
       "      <td>😜</td>\n",
       "    </tr>\n",
       "    <tr>\n",
       "      <th>2</th>\n",
       "      <td>m dying   jim patty coffee</td>\n",
       "      <td>😂</td>\n",
       "      <td>😂</td>\n",
       "    </tr>\n",
       "    <tr>\n",
       "      <th>3</th>\n",
       "      <td>sending prayer baby cousin tomorrow acl surger...</td>\n",
       "      <td>❤️</td>\n",
       "      <td>❤️</td>\n",
       "    </tr>\n",
       "    <tr>\n",
       "      <th>4</th>\n",
       "      <td>body vaporized dimension museum fantastic</td>\n",
       "      <td>📷</td>\n",
       "      <td>📷</td>\n",
       "    </tr>\n",
       "    <tr>\n",
       "      <th>5</th>\n",
       "      <td>tonight   word bro    djftg laddjz laddjz   dr...</td>\n",
       "      <td>🔥</td>\n",
       "      <td>🔥</td>\n",
       "    </tr>\n",
       "  </tbody>\n",
       "</table>\n",
       "</div>"
      ],
      "text/plain": [
       "                                               Tweet True Predicted\n",
       "0                                   celebration game    💯         💯\n",
       "1            selfie time jessicov   snowbasin resort    😜         😜\n",
       "2                         m dying   jim patty coffee    😂         😂\n",
       "3  sending prayer baby cousin tomorrow acl surger...   ❤️        ❤️\n",
       "4          body vaporized dimension museum fantastic    📷         📷\n",
       "5  tonight   word bro    djftg laddjz laddjz   dr...    🔥         🔥"
      ]
     },
     "execution_count": 6,
     "metadata": {},
     "output_type": "execute_result"
    }
   ],
   "source": [
    "X_sequences_test = preprocess_text_tweet(X)\n",
    "predictions = np.argmax(model.predict(X_sequences_test), axis=1)\n",
    "y_map = [emoji_dict[idx] for idx in y]\n",
    "predictions = [emoji_dict[idx] for idx in predictions]\n",
    "results = pd.DataFrame({\"Tweet\":X})\n",
    "results[\"True\"] = y_map\n",
    "results[\"Predicted\"] = predictions\n",
    "results"
   ]
  },
  {
   "cell_type": "code",
   "execution_count": 7,
   "id": "dfacb08c",
   "metadata": {},
   "outputs": [],
   "source": [
    "import string\n",
    "import re\n",
    "from tensorflow import keras\n",
    "emoji_predict_model = keras.models.load_model(\"BLSTM.h5\", compile=False)\n",
    "def emoji_predict(text, model=emoji_predict_model):\n",
    "    text = text\n",
    "    X_sequences = preprocess_text([text])\n",
    "    predictions = np.argmax(model.predict(X_sequences), axis=1)\n",
    "    emoji_idx = predictions[0]\n",
    "    emoji = emoji_dict[emoji_idx]\n",
    "    return emoji"
   ]
  },
  {
   "cell_type": "code",
   "execution_count": 18,
   "id": "eb099de1",
   "metadata": {},
   "outputs": [
    {
     "name": "stdout",
     "output_type": "stream",
     "text": [
      "Enter tweet \n",
      "\n",
      "The best christmas ever\n",
      "\n",
      "\n",
      " Emojified Tweet \n",
      "\n",
      "\n",
      "The best christmas ever 🎄\n"
     ]
    }
   ],
   "source": [
    "text = input(\"Enter tweet \\n\\n\")\n",
    "print(\"\\n\\n Emojified Tweet \\n\\n\")\n",
    "print(text+\" \"+emoji_predict(text))"
   ]
  },
  {
   "cell_type": "code",
   "execution_count": 26,
   "id": "ddd9dad4",
   "metadata": {},
   "outputs": [
    {
     "name": "stdout",
     "output_type": "stream",
     "text": [
      "Enter tweet \n",
      "\n",
      "Bill is a cool guy\n",
      "\n",
      "\n",
      " output \n",
      "\n",
      "\n",
      "Bill is a cool guy 😎\n"
     ]
    }
   ],
   "source": [
    "text = input(\"Enter tweet \\n\\n\")\n",
    "print(\"\\n\\n output \\n\\n\")\n",
    "print(text+\" \"+emoji_predict(text))"
   ]
  },
  {
   "cell_type": "code",
   "execution_count": 40,
   "id": "62eacbf5",
   "metadata": {},
   "outputs": [
    {
     "name": "stdout",
     "output_type": "stream",
     "text": [
      "Enter tweet \n",
      "\n",
      "Dua lipa concert was lit\n",
      "\n",
      "\n",
      " Emojified Tweet \n",
      "\n",
      "\n",
      "Dua lipa concert was lit 🔥\n"
     ]
    }
   ],
   "source": [
    "text = input(\"Enter tweet \\n\\n\")\n",
    "print(\"\\n\\n Emojified Tweet \\n\\n\")\n",
    "print(text+\" \"+emoji_predict(text))"
   ]
  },
  {
   "cell_type": "code",
   "execution_count": 43,
   "id": "65be318d",
   "metadata": {},
   "outputs": [
    {
     "name": "stdout",
     "output_type": "stream",
     "text": [
      "Enter tweet \n",
      "\n",
      "I purple you\n",
      "\n",
      "\n",
      " Emojified Tweet \n",
      "\n",
      "\n",
      "I purple you 💜\n"
     ]
    }
   ],
   "source": [
    "text = input(\"Enter tweet \\n\\n\")\n",
    "print(\"\\n\\n Emojified Tweet \\n\\n\")\n",
    "print(text+\" \"+emoji_predict(text))"
   ]
  },
  {
   "cell_type": "code",
   "execution_count": 50,
   "id": "168619f2",
   "metadata": {},
   "outputs": [
    {
     "name": "stdout",
     "output_type": "stream",
     "text": [
      "Enter tweet \n",
      "\n",
      "What a beautiful view \n",
      "\n",
      "\n",
      " Emojified Tweet \n",
      "\n",
      "\n",
      "What a beautiful view  😍\n"
     ]
    }
   ],
   "source": [
    "text = input(\"Enter tweet \\n\\n\")\n",
    "print(\"\\n\\n Emojified Tweet \\n\\n\")\n",
    "print(text+\" \"+emoji_predict(text))"
   ]
  },
  {
   "cell_type": "code",
   "execution_count": 66,
   "id": "47f81fcf",
   "metadata": {},
   "outputs": [
    {
     "name": "stdout",
     "output_type": "stream",
     "text": [
      "Enter tweet \n",
      "\n",
      "its a hot summer compared to last year\n",
      "\n",
      "\n",
      " Emojified Tweet \n",
      "\n",
      "\n",
      "its a hot summer compared to last year ☀️\n"
     ]
    }
   ],
   "source": [
    "text = input(\"Enter tweet \\n\\n\")\n",
    "print(\"\\n\\n Emojified Tweet \\n\\n\")\n",
    "print(text+\" \"+emoji_predict(text))"
   ]
  }
 ],
 "metadata": {
  "kernelspec": {
   "display_name": "Python 3",
   "language": "python",
   "name": "python3"
  },
  "language_info": {
   "codemirror_mode": {
    "name": "ipython",
    "version": 3
   },
   "file_extension": ".py",
   "mimetype": "text/x-python",
   "name": "python",
   "nbconvert_exporter": "python",
   "pygments_lexer": "ipython3",
   "version": "3.8.8"
  }
 },
 "nbformat": 4,
 "nbformat_minor": 5
}
