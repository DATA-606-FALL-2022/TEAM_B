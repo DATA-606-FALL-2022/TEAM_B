{
 "cells": [
  {
   "cell_type": "markdown",
   "id": "f4056244",
   "metadata": {},
   "source": [
    "### Importing Libraries"
   ]
  },
  {
   "cell_type": "code",
   "execution_count": 1,
   "id": "3b3d0e5f",
   "metadata": {},
   "outputs": [],
   "source": [
    "import os\n",
    "import numpy as np\n",
    "import pandas as pd\n",
    "import matplotlib.pyplot as plt\n",
    "import seaborn as sns\n",
    "import warnings\n",
    "warnings.filterwarnings(action='ignore')"
   ]
  },
  {
   "cell_type": "markdown",
   "id": "dfb819e4",
   "metadata": {},
   "source": [
    "### Fetching Cleaned data which was created during EDA "
   ]
  },
  {
   "cell_type": "code",
   "execution_count": 2,
   "id": "ab8aeacc",
   "metadata": {},
   "outputs": [
    {
     "data": {
      "text/html": [
       "<div>\n",
       "<style scoped>\n",
       "    .dataframe tbody tr th:only-of-type {\n",
       "        vertical-align: middle;\n",
       "    }\n",
       "\n",
       "    .dataframe tbody tr th {\n",
       "        vertical-align: top;\n",
       "    }\n",
       "\n",
       "    .dataframe thead th {\n",
       "        text-align: right;\n",
       "    }\n",
       "</style>\n",
       "<table border=\"1\" class=\"dataframe\">\n",
       "  <thead>\n",
       "    <tr style=\"text-align: right;\">\n",
       "      <th></th>\n",
       "      <th>Tweet</th>\n",
       "      <th>Label</th>\n",
       "    </tr>\n",
       "  </thead>\n",
       "  <tbody>\n",
       "    <tr>\n",
       "      <th>0</th>\n",
       "      <td>little throwback favourite person   water wall</td>\n",
       "      <td>0</td>\n",
       "    </tr>\n",
       "    <tr>\n",
       "      <th>1</th>\n",
       "      <td>glam   yesterday kcon makeup   featherette</td>\n",
       "      <td>7</td>\n",
       "    </tr>\n",
       "    <tr>\n",
       "      <th>2</th>\n",
       "      <td>democracy plaza wake stunning outcome decision...</td>\n",
       "      <td>11</td>\n",
       "    </tr>\n",
       "    <tr>\n",
       "      <th>3</th>\n",
       "      <td>amp vilo   walt disney magic kingdom</td>\n",
       "      <td>0</td>\n",
       "    </tr>\n",
       "    <tr>\n",
       "      <th>4</th>\n",
       "      <td>galaxy far far away</td>\n",
       "      <td>2</td>\n",
       "    </tr>\n",
       "    <tr>\n",
       "      <th>...</th>\n",
       "      <td>...</td>\n",
       "      <td>...</td>\n",
       "    </tr>\n",
       "    <tr>\n",
       "      <th>49995</th>\n",
       "      <td>ootd love chain new ring putaringonit odesigne...</td>\n",
       "      <td>1</td>\n",
       "    </tr>\n",
       "    <tr>\n",
       "      <th>49996</th>\n",
       "      <td>met santa olaf   north pole today   north pole...</td>\n",
       "      <td>0</td>\n",
       "    </tr>\n",
       "    <tr>\n",
       "      <th>49997</th>\n",
       "      <td>new york night strideby herelocationnyc seemyc...</td>\n",
       "      <td>11</td>\n",
       "    </tr>\n",
       "    <tr>\n",
       "      <th>49998</th>\n",
       "      <td>kiss birthday girl   helzberg diamond</td>\n",
       "      <td>0</td>\n",
       "    </tr>\n",
       "    <tr>\n",
       "      <th>49999</th>\n",
       "      <td>dinner priceless viewthank s anniversarydinner...</td>\n",
       "      <td>9</td>\n",
       "    </tr>\n",
       "  </tbody>\n",
       "</table>\n",
       "<p>49985 rows × 2 columns</p>\n",
       "</div>"
      ],
      "text/plain": [
       "                                                   Tweet  Label\n",
       "0         little throwback favourite person   water wall      0\n",
       "1             glam   yesterday kcon makeup   featherette      7\n",
       "2      democracy plaza wake stunning outcome decision...     11\n",
       "3                   amp vilo   walt disney magic kingdom      0\n",
       "4                                    galaxy far far away      2\n",
       "...                                                  ...    ...\n",
       "49995  ootd love chain new ring putaringonit odesigne...      1\n",
       "49996  met santa olaf   north pole today   north pole...      0\n",
       "49997  new york night strideby herelocationnyc seemyc...     11\n",
       "49998              kiss birthday girl   helzberg diamond      0\n",
       "49999  dinner priceless viewthank s anniversarydinner...      9\n",
       "\n",
       "[49985 rows x 2 columns]"
      ]
     },
     "execution_count": 2,
     "metadata": {},
     "output_type": "execute_result"
    }
   ],
   "source": [
    "emoji_data_Cleaned = pd.read_csv(\"Cleaned_Twitter_Data.csv\")\n",
    "emoji_data_Cleaned.dropna(inplace=True)\n",
    "emoji_data_Cleaned"
   ]
  },
  {
   "cell_type": "markdown",
   "id": "364e50e4",
   "metadata": {},
   "source": [
    "### Checking for null values"
   ]
  },
  {
   "cell_type": "code",
   "execution_count": 3,
   "id": "1bd4df46",
   "metadata": {},
   "outputs": [
    {
     "data": {
      "text/plain": [
       "Tweet    0\n",
       "Label    0\n",
       "dtype: int64"
      ]
     },
     "execution_count": 3,
     "metadata": {},
     "output_type": "execute_result"
    }
   ],
   "source": [
    "emoji_data_Cleaned.isnull().sum()"
   ]
  },
  {
   "cell_type": "markdown",
   "id": "2d3b4ff9",
   "metadata": {},
   "source": [
    "### Preparing Train and Test Data"
   ]
  },
  {
   "cell_type": "markdown",
   "id": "105da8ca",
   "metadata": {},
   "source": [
    "### Implementation of over-sampling on data"
   ]
  },
  {
   "cell_type": "code",
   "execution_count": 4,
   "id": "2d487e6a",
   "metadata": {},
   "outputs": [],
   "source": [
    "X = emoji_data_Cleaned[\"Tweet\"].values\n",
    "y = emoji_data_Cleaned[\"Label\"].values"
   ]
  },
  {
   "cell_type": "code",
   "execution_count": 5,
   "id": "d41db021",
   "metadata": {},
   "outputs": [
    {
     "data": {
      "text/plain": [
       "array(['little throwback favourite person   water wall',\n",
       "       'glam   yesterday kcon makeup   featherette',\n",
       "       'democracy plaza wake stunning outcome decision   nbc news', ...,\n",
       "       'new york night strideby herelocationnyc seemycity guardiancities',\n",
       "       'kiss birthday girl   helzberg diamond',\n",
       "       'dinner priceless viewthank s anniversarydinner columbuscircle augustrd'],\n",
       "      dtype=object)"
      ]
     },
     "execution_count": 5,
     "metadata": {},
     "output_type": "execute_result"
    }
   ],
   "source": [
    "X"
   ]
  },
  {
   "cell_type": "code",
   "execution_count": 6,
   "id": "dea0052f",
   "metadata": {},
   "outputs": [
    {
     "data": {
      "text/plain": [
       "array([ 0,  7, 11, ..., 11,  0,  9], dtype=int64)"
      ]
     },
     "execution_count": 6,
     "metadata": {},
     "output_type": "execute_result"
    }
   ],
   "source": [
    "y"
   ]
  },
  {
   "cell_type": "code",
   "execution_count": 7,
   "id": "e0fd20f0",
   "metadata": {},
   "outputs": [],
   "source": [
    "from imblearn.over_sampling import RandomOverSampler\n",
    "\n",
    "os = RandomOverSampler()\n",
    "X = X.reshape(-1,1)\n",
    "X, y = os.fit_sample(X, y)"
   ]
  },
  {
   "cell_type": "code",
   "execution_count": 8,
   "id": "7cf3fe55",
   "metadata": {},
   "outputs": [
    {
     "data": {
      "text/plain": [
       "(215160, 1)"
      ]
     },
     "execution_count": 8,
     "metadata": {},
     "output_type": "execute_result"
    }
   ],
   "source": [
    "X.shape"
   ]
  },
  {
   "cell_type": "code",
   "execution_count": 9,
   "id": "aa2d36ca",
   "metadata": {},
   "outputs": [
    {
     "data": {
      "text/plain": [
       "array([ 0,  7, 11, ..., 19, 19, 19], dtype=int64)"
      ]
     },
     "execution_count": 9,
     "metadata": {},
     "output_type": "execute_result"
    }
   ],
   "source": [
    "y"
   ]
  },
  {
   "cell_type": "code",
   "execution_count": 10,
   "id": "fb5a8d5a",
   "metadata": {},
   "outputs": [
    {
     "data": {
      "text/plain": [
       "array([['little throwback favourite person   water wall'],\n",
       "       ['glam   yesterday kcon makeup   featherette'],\n",
       "       ['democracy plaza wake stunning outcome decision   nbc news'],\n",
       "       ...,\n",
       "       ['year fun   let year   rabbit hole'],\n",
       "       ['lit n    man turnt okay   will social bistro amp lounge'],\n",
       "       ['happy hour make happy casadelmatador happyhour nomnomnom lasvegas vega vegaseats']],\n",
       "      dtype=object)"
      ]
     },
     "execution_count": 10,
     "metadata": {},
     "output_type": "execute_result"
    }
   ],
   "source": [
    "X.reshape(-1,1)"
   ]
  },
  {
   "cell_type": "code",
   "execution_count": 11,
   "id": "69df179f",
   "metadata": {},
   "outputs": [
    {
     "data": {
      "text/plain": [
       "(215160,)"
      ]
     },
     "execution_count": 11,
     "metadata": {},
     "output_type": "execute_result"
    }
   ],
   "source": [
    "X = X.reshape(-1,)\n",
    "X.shape"
   ]
  },
  {
   "cell_type": "markdown",
   "id": "b71d61b1",
   "metadata": {},
   "source": [
    "## Implementation of text tokenization for deep learning"
   ]
  },
  {
   "cell_type": "code",
   "execution_count": 12,
   "id": "7f394817",
   "metadata": {},
   "outputs": [],
   "source": [
    "import tensorflow as tf\n",
    "import tensorflow.keras\n",
    "from tensorflow.keras.preprocessing.text import Tokenizer\n",
    "from tensorflow.keras.preprocessing.sequence import pad_sequences\n",
    "import tensorflow.keras.utils as ku"
   ]
  },
  {
   "cell_type": "code",
   "execution_count": 13,
   "id": "2f074b4e",
   "metadata": {},
   "outputs": [],
   "source": [
    "text_tokenizer = Tokenizer(num_words=80000) # Text Tokenization\n",
    "text_tokenizer.fit_on_texts(X)\n",
    "\n",
    "#word_index it's simply a mapping of words to ids for the entire text corpus passed whatever the num_words is"
   ]
  },
  {
   "cell_type": "code",
   "execution_count": 14,
   "id": "32ecc888",
   "metadata": {},
   "outputs": [
    {
     "name": "stdout",
     "output_type": "stream",
     "text": [
      "Text \n",
      " ['little throwback favourite person   water wall'\n",
      " 'glam   yesterday kcon makeup   featherette'\n",
      " 'democracy plaza wake stunning outcome decision   nbc news'\n",
      " 'amp vilo   walt disney magic kingdom' '  galaxy far far away'\n",
      " 'dinner fla tonight   panseared salmon couscous veggie salad yum dinner florida salmon'\n",
      " 'fav senior game congrats beating west   west salem'\n",
      " 'got formal best friend   phi mu jsu'\n",
      " 'cause miss little homies throwback cousinlove   indiana university'\n",
      " 'birthday kiss   madison wisconsin'] \n",
      "\n",
      "Sequences\n"
     ]
    },
    {
     "data": {
      "text/plain": [
       "[[26, 304, 2248, 328, 471, 661],\n",
       " [2737, 188, 20035, 501, 20036],\n",
       " [4649, 549, 852, 1159, 7312, 2219, 3658, 1382],\n",
       " [6, 43089, 430, 57, 140, 260],\n",
       " [2612, 580, 580, 411],\n",
       " [135, 14895, 36, 38292, 3058, 38293, 3103, 1578, 1734, 135, 45, 3058],\n",
       " [366, 323, 90, 436, 4186, 131, 131, 2384],\n",
       " [17, 956, 18, 22, 821, 2774, 10457],\n",
       " [353, 83, 26, 1524, 304, 5161, 423, 16],\n",
       " [29, 593, 543, 663]]"
      ]
     },
     "execution_count": 14,
     "metadata": {},
     "output_type": "execute_result"
    }
   ],
   "source": [
    "print(\"Text \\n\",X[:10],'\\n')\n",
    "X_sequence = text_tokenizer.texts_to_sequences(X)\n",
    "print(\"Sequences\")\n",
    "X_sequence[:10]\n",
    "#Transforms each text in texts to a sequence of integers"
   ]
  },
  {
   "cell_type": "code",
   "execution_count": null,
   "id": "e8621295",
   "metadata": {},
   "outputs": [],
   "source": [
    "# Saving text_tweet_tokenization Model\n",
    "model.save(\"text_tweet_tokenization.h5\")"
   ]
  },
  {
   "cell_type": "code",
   "execution_count": 15,
   "id": "6b7f6d05",
   "metadata": {},
   "outputs": [
    {
     "name": "stdout",
     "output_type": "stream",
     "text": [
      "Word Mappings\n",
      "\n",
      "Index:  1 ----> love\n",
      "Index:  2 ----> new\n",
      "Index:  3 ----> day\n",
      "Index:  4 ----> nt\n",
      "Index:  5 ----> happy\n",
      "Index:  6 ----> amp\n",
      "Index:  7 ----> beach\n",
      "Index:  8 ----> christmas\n",
      "Index:  9 ----> time\n"
     ]
    }
   ],
   "source": [
    "idx2words = text_tokenizer.index_word\n",
    "print(\"Word Mappings\\n\")\n",
    "for i in range(1,10):\n",
    "    print(\"Index: \",i, \"---->\",idx2words[i])"
   ]
  },
  {
   "cell_type": "code",
   "execution_count": 16,
   "id": "cc19558b",
   "metadata": {},
   "outputs": [
    {
     "name": "stdout",
     "output_type": "stream",
     "text": [
      "Vocabulary size : 54697\n"
     ]
    }
   ],
   "source": [
    "# Word Mappings of tweets after getting processed from tokenizer\n",
    "vocab_size = len(text_tokenizer.index_word)\n",
    "print(\"Vocabulary size :\",len(text_tokenizer.index_word))"
   ]
  },
  {
   "cell_type": "code",
   "execution_count": 17,
   "id": "c265c6e8",
   "metadata": {},
   "outputs": [],
   "source": [
    "maximum_length=40\n",
    "X_sequence_padding = pad_sequences(X_sequence, truncating=\"pre\", padding=\"pre\", maxlen=maximum_length)"
   ]
  },
  {
   "cell_type": "code",
   "execution_count": 18,
   "id": "7014ef4f",
   "metadata": {},
   "outputs": [
    {
     "name": "stdout",
     "output_type": "stream",
     "text": [
      "Before Padding\n",
      "[[26, 304, 2248, 328, 471, 661]]\n",
      "\n",
      "After Padding\n",
      "[[   0    0    0    0    0    0    0    0    0    0    0    0    0    0\n",
      "     0    0    0    0    0    0    0    0    0    0    0    0    0    0\n",
      "     0    0    0    0    0    0   26  304 2248  328  471  661]]\n"
     ]
    }
   ],
   "source": [
    "# padding all the sequences since they have different length in order to feed the data into the deep learning model which takes in input of constant length.\n",
    "print(\"Before Padding\")\n",
    "print(X_sequence[:1])\n",
    "\n",
    "print(\"\\nAfter Padding\")\n",
    "print(X_sequence_padding[:1])"
   ]
  },
  {
   "cell_type": "markdown",
   "id": "7a819cc8",
   "metadata": {},
   "source": [
    "### Train Test Split"
   ]
  },
  {
   "cell_type": "code",
   "execution_count": 19,
   "id": "b4f73b4e",
   "metadata": {},
   "outputs": [
    {
     "name": "stdout",
     "output_type": "stream",
     "text": [
      "Training X Dim  (150598, 40)\n",
      "Training y Dim  (150598,)\n",
      "Test X Dim  (64542, 40)\n",
      "Test y Dim  (64542,)\n"
     ]
    }
   ],
   "source": [
    "from sklearn.model_selection import train_test_split\n",
    "X_train, X_test ,y_train, y_test = train_test_split(X_sequence_padding, y, test_size=0.3, random_state=105)\n",
    "print(\"Training X Dim \",X_train.shape)\n",
    "print(\"Training y Dim \",y_train.shape)\n",
    "print(\"Test X Dim \",X_test.shape)\n",
    "print(\"Test y Dim \",y_test.shape)"
   ]
  },
  {
   "cell_type": "markdown",
   "id": "b635f867",
   "metadata": {},
   "source": [
    "### Deep Learning Model using LSTM"
   ]
  },
  {
   "cell_type": "code",
   "execution_count": 20,
   "id": "10a5812f",
   "metadata": {},
   "outputs": [
    {
     "name": "stdout",
     "output_type": "stream",
     "text": [
      "Model: \"sequential\"\n",
      "_________________________________________________________________\n",
      "Layer (type)                 Output Shape              Param #   \n",
      "=================================================================\n",
      "embedding (Embedding)        (None, 40, 20)            1095020   \n",
      "_________________________________________________________________\n",
      "lstm (LSTM)                  (None, 40, 80)            32320     \n",
      "_________________________________________________________________\n",
      "dropout (Dropout)            (None, 40, 80)            0         \n",
      "_________________________________________________________________\n",
      "lstm_1 (LSTM)                (None, 40)                19360     \n",
      "_________________________________________________________________\n",
      "dropout_1 (Dropout)          (None, 40)                0         \n",
      "_________________________________________________________________\n",
      "dense (Dense)                (None, 20)                820       \n",
      "=================================================================\n",
      "Total params: 1,147,520\n",
      "Trainable params: 1,147,520\n",
      "Non-trainable params: 0\n",
      "_________________________________________________________________\n"
     ]
    }
   ],
   "source": [
    "from tensorflow.keras.models import Sequential\n",
    "from tensorflow.keras.layers import Dropout, Dense, LSTM, Bidirectional,Embedding, GlobalMaxPool1D\n",
    "vocabulary_size = vocab_size\n",
    "seq_len = 40\n",
    "embed_len=20\n",
    "model = Sequential()\n",
    "model.add(Embedding(vocabulary_size+1, embed_len, input_length=seq_len))\n",
    "model.add(LSTM(units = 80, return_sequences=True))\n",
    "model.add(Dropout(0.5))\n",
    "model.add(LSTM(units = 40))\n",
    "model.add(Dropout(0.5))\n",
    "model.add(Dense(units=20, activation='softmax'))\n",
    "model.summary()"
   ]
  },
  {
   "cell_type": "code",
   "execution_count": 21,
   "id": "9c0e1874",
   "metadata": {},
   "outputs": [],
   "source": [
    "from tensorflow.keras.callbacks import EarlyStopping\n",
    "early_stop = EarlyStopping(monitor=\"val_loss\", mode=\"min\", patience=1,verbose=1)\n",
    "model.compile(loss = 'categorical_crossentropy',\n",
    "             optimizer = \"adam\",\n",
    "             metrics=[\"accuracy\"])"
   ]
  },
  {
   "cell_type": "code",
   "execution_count": 23,
   "id": "1190ed60",
   "metadata": {},
   "outputs": [
    {
     "name": "stdout",
     "output_type": "stream",
     "text": [
      "Epoch 1/20\n",
      "1177/1177 [==============================] - 145s 123ms/step - loss: 2.4386 - accuracy: 0.2474 - val_loss: 1.8046 - val_accuracy: 0.4649\n",
      "Epoch 2/20\n",
      "1177/1177 [==============================] - 134s 114ms/step - loss: 1.4919 - accuracy: 0.5720 - val_loss: 1.1958 - val_accuracy: 0.6711\n",
      "Epoch 3/20\n",
      "1177/1177 [==============================] - 139s 118ms/step - loss: 1.0373 - accuracy: 0.7151 - val_loss: 0.9549 - val_accuracy: 0.7375\n",
      "Epoch 4/20\n",
      "1177/1177 [==============================] - 141s 120ms/step - loss: 0.8156 - accuracy: 0.7763 - val_loss: 0.8472 - val_accuracy: 0.7703\n",
      "Epoch 5/20\n",
      "1177/1177 [==============================] - 132s 112ms/step - loss: 0.6900 - accuracy: 0.8098 - val_loss: 0.7785 - val_accuracy: 0.7928\n",
      "Epoch 6/20\n",
      "1177/1177 [==============================] - 126s 107ms/step - loss: 0.6041 - accuracy: 0.8345 - val_loss: 0.7469 - val_accuracy: 0.8076\n",
      "Epoch 7/20\n",
      "1177/1177 [==============================] - 136s 115ms/step - loss: 0.5361 - accuracy: 0.8522 - val_loss: 0.7206 - val_accuracy: 0.8202\n",
      "Epoch 8/20\n",
      "1177/1177 [==============================] - 137s 116ms/step - loss: 0.4854 - accuracy: 0.8667 - val_loss: 0.6950 - val_accuracy: 0.8306\n",
      "Epoch 9/20\n",
      "1177/1177 [==============================] - 147s 125ms/step - loss: 0.4414 - accuracy: 0.8788 - val_loss: 0.6889 - val_accuracy: 0.8391\n",
      "Epoch 10/20\n",
      "1177/1177 [==============================] - 141s 119ms/step - loss: 0.4034 - accuracy: 0.8885 - val_loss: 0.6660 - val_accuracy: 0.8474\n",
      "Epoch 11/20\n",
      "1177/1177 [==============================] - 138s 117ms/step - loss: 0.3797 - accuracy: 0.8951 - val_loss: 0.6603 - val_accuracy: 0.8520\n",
      "Epoch 12/20\n",
      "1177/1177 [==============================] - 140s 119ms/step - loss: 0.3526 - accuracy: 0.9024 - val_loss: 0.6450 - val_accuracy: 0.8592\n",
      "Epoch 13/20\n",
      "1177/1177 [==============================] - 145s 123ms/step - loss: 0.3331 - accuracy: 0.9071 - val_loss: 0.6520 - val_accuracy: 0.8612\n",
      "Epoch 00013: early stopping\n"
     ]
    },
    {
     "data": {
      "text/plain": [
       "<tensorflow.python.keras.callbacks.History at 0x17dd97bcee0>"
      ]
     },
     "execution_count": 23,
     "metadata": {},
     "output_type": "execute_result"
    }
   ],
   "source": [
    "from tensorflow.keras.utils import to_categorical\n",
    "y_train_category = to_categorical(y_train)\n",
    "y_test_category = to_categorical(y_test)\n",
    "batch_size=128\n",
    "epochs = 20\n",
    "model.fit(X_train, y_train_category, batch_size=batch_size, epochs = epochs, shuffle=True,\n",
    "          validation_data=(X_test, y_test_category), callbacks=[early_stop])"
   ]
  },
  {
   "cell_type": "code",
   "execution_count": 24,
   "id": "9abaa900",
   "metadata": {},
   "outputs": [
    {
     "data": {
      "text/html": [
       "<div>\n",
       "<style scoped>\n",
       "    .dataframe tbody tr th:only-of-type {\n",
       "        vertical-align: middle;\n",
       "    }\n",
       "\n",
       "    .dataframe tbody tr th {\n",
       "        vertical-align: top;\n",
       "    }\n",
       "\n",
       "    .dataframe thead th {\n",
       "        text-align: right;\n",
       "    }\n",
       "</style>\n",
       "<table border=\"1\" class=\"dataframe\">\n",
       "  <thead>\n",
       "    <tr style=\"text-align: right;\">\n",
       "      <th></th>\n",
       "      <th>loss</th>\n",
       "      <th>accuracy</th>\n",
       "      <th>val_loss</th>\n",
       "      <th>val_accuracy</th>\n",
       "    </tr>\n",
       "  </thead>\n",
       "  <tbody>\n",
       "    <tr>\n",
       "      <th>0</th>\n",
       "      <td>2.438630</td>\n",
       "      <td>0.247427</td>\n",
       "      <td>1.804588</td>\n",
       "      <td>0.464907</td>\n",
       "    </tr>\n",
       "    <tr>\n",
       "      <th>1</th>\n",
       "      <td>1.491874</td>\n",
       "      <td>0.571953</td>\n",
       "      <td>1.195845</td>\n",
       "      <td>0.671051</td>\n",
       "    </tr>\n",
       "    <tr>\n",
       "      <th>2</th>\n",
       "      <td>1.037323</td>\n",
       "      <td>0.715063</td>\n",
       "      <td>0.954927</td>\n",
       "      <td>0.737535</td>\n",
       "    </tr>\n",
       "    <tr>\n",
       "      <th>3</th>\n",
       "      <td>0.815614</td>\n",
       "      <td>0.776305</td>\n",
       "      <td>0.847162</td>\n",
       "      <td>0.770336</td>\n",
       "    </tr>\n",
       "    <tr>\n",
       "      <th>4</th>\n",
       "      <td>0.690038</td>\n",
       "      <td>0.809805</td>\n",
       "      <td>0.778517</td>\n",
       "      <td>0.792817</td>\n",
       "    </tr>\n",
       "    <tr>\n",
       "      <th>5</th>\n",
       "      <td>0.604089</td>\n",
       "      <td>0.834486</td>\n",
       "      <td>0.746912</td>\n",
       "      <td>0.807629</td>\n",
       "    </tr>\n",
       "    <tr>\n",
       "      <th>6</th>\n",
       "      <td>0.536092</td>\n",
       "      <td>0.852183</td>\n",
       "      <td>0.720623</td>\n",
       "      <td>0.820226</td>\n",
       "    </tr>\n",
       "    <tr>\n",
       "      <th>7</th>\n",
       "      <td>0.485389</td>\n",
       "      <td>0.866652</td>\n",
       "      <td>0.694977</td>\n",
       "      <td>0.830575</td>\n",
       "    </tr>\n",
       "    <tr>\n",
       "      <th>8</th>\n",
       "      <td>0.441390</td>\n",
       "      <td>0.878850</td>\n",
       "      <td>0.688863</td>\n",
       "      <td>0.839097</td>\n",
       "    </tr>\n",
       "    <tr>\n",
       "      <th>9</th>\n",
       "      <td>0.403351</td>\n",
       "      <td>0.888471</td>\n",
       "      <td>0.666029</td>\n",
       "      <td>0.847433</td>\n",
       "    </tr>\n",
       "    <tr>\n",
       "      <th>10</th>\n",
       "      <td>0.379686</td>\n",
       "      <td>0.895072</td>\n",
       "      <td>0.660258</td>\n",
       "      <td>0.851988</td>\n",
       "    </tr>\n",
       "    <tr>\n",
       "      <th>11</th>\n",
       "      <td>0.352630</td>\n",
       "      <td>0.902396</td>\n",
       "      <td>0.645007</td>\n",
       "      <td>0.859161</td>\n",
       "    </tr>\n",
       "    <tr>\n",
       "      <th>12</th>\n",
       "      <td>0.333119</td>\n",
       "      <td>0.907051</td>\n",
       "      <td>0.651991</td>\n",
       "      <td>0.861222</td>\n",
       "    </tr>\n",
       "  </tbody>\n",
       "</table>\n",
       "</div>"
      ],
      "text/plain": [
       "        loss  accuracy  val_loss  val_accuracy\n",
       "0   2.438630  0.247427  1.804588      0.464907\n",
       "1   1.491874  0.571953  1.195845      0.671051\n",
       "2   1.037323  0.715063  0.954927      0.737535\n",
       "3   0.815614  0.776305  0.847162      0.770336\n",
       "4   0.690038  0.809805  0.778517      0.792817\n",
       "5   0.604089  0.834486  0.746912      0.807629\n",
       "6   0.536092  0.852183  0.720623      0.820226\n",
       "7   0.485389  0.866652  0.694977      0.830575\n",
       "8   0.441390  0.878850  0.688863      0.839097\n",
       "9   0.403351  0.888471  0.666029      0.847433\n",
       "10  0.379686  0.895072  0.660258      0.851988\n",
       "11  0.352630  0.902396  0.645007      0.859161\n",
       "12  0.333119  0.907051  0.651991      0.861222"
      ]
     },
     "execution_count": 24,
     "metadata": {},
     "output_type": "execute_result"
    }
   ],
   "source": [
    "loss = pd.DataFrame(model.history.history)\n",
    "loss"
   ]
  },
  {
   "cell_type": "code",
   "execution_count": 25,
   "id": "32449a09",
   "metadata": {},
   "outputs": [
    {
     "data": {
      "text/plain": [
       "[<matplotlib.lines.Line2D at 0x17dd9814550>,\n",
       " <matplotlib.lines.Line2D at 0x17dd9814610>,\n",
       " <matplotlib.lines.Line2D at 0x17dd98146d0>,\n",
       " <matplotlib.lines.Line2D at 0x17dd9814790>]"
      ]
     },
     "execution_count": 25,
     "metadata": {},
     "output_type": "execute_result"
    },
    {
     "data": {
      "image/png": "[encoded data removed]",
      "text/plain": [
       "<Figure size 432x288 with 1 Axes>"
      ]
     },
     "metadata": {
      "needs_background": "light"
     },
     "output_type": "display_data"
    }
   ],
   "source": [
    "plt.plot(loss)"
   ]
  },
  {
   "cell_type": "markdown",
   "id": "10dac415",
   "metadata": {},
   "source": [
    "### Deep Learning Model using Bidirectional-LSTM"
   ]
  },
  {
   "cell_type": "code",
   "execution_count": 26,
   "id": "41a3cfa1",
   "metadata": {},
   "outputs": [
    {
     "name": "stdout",
     "output_type": "stream",
     "text": [
      "Model: \"sequential_1\"\n",
      "_________________________________________________________________\n",
      "Layer (type)                 Output Shape              Param #   \n",
      "=================================================================\n",
      "embedding_1 (Embedding)      (None, 40, 128)           7008128   \n",
      "_________________________________________________________________\n",
      "bidirectional (Bidirectional (None, 40, 160)           133760    \n",
      "_________________________________________________________________\n",
      "bidirectional_1 (Bidirection (None, 40, 160)           154240    \n",
      "_________________________________________________________________\n",
      "global_max_pooling1d (Global (None, 160)               0         \n",
      "_________________________________________________________________\n",
      "dropout_2 (Dropout)          (None, 160)               0         \n",
      "_________________________________________________________________\n",
      "dense_1 (Dense)              (None, 64)                10304     \n",
      "_________________________________________________________________\n",
      "dropout_3 (Dropout)          (None, 64)                0         \n",
      "_________________________________________________________________\n",
      "dense_2 (Dense)              (None, 20)                1300      \n",
      "=================================================================\n",
      "Total params: 7,307,732\n",
      "Trainable params: 7,307,732\n",
      "Non-trainable params: 0\n",
      "_________________________________________________________________\n"
     ]
    }
   ],
   "source": [
    "from tensorflow.keras.models import Sequential\n",
    "from tensorflow.keras.layers import Dropout, Dense, LSTM, Bidirectional,Embedding, GlobalMaxPool1D\n",
    "vocabulary_size = vocab_size\n",
    "seq_len = 40\n",
    "embed_len=128\n",
    "model1 = Sequential()\n",
    "model1.add(Embedding(vocabulary_size+1, embed_len, input_length=seq_len))\n",
    "model1.add(Bidirectional(LSTM(80,return_sequences=True)))\n",
    "model1.add(Bidirectional(LSTM(80,return_sequences=True)))\n",
    "model1.add(GlobalMaxPool1D())\n",
    "model1.add(Dropout(0.5))\n",
    "model1.add(Dense(64, activation=\"relu\"))\n",
    "model1.add(Dropout(0.5))\n",
    "model1.add(Dense(20, activation=\"softmax\"))\n",
    "model1.summary()"
   ]
  },
  {
   "cell_type": "code",
   "execution_count": 27,
   "id": "d3315770",
   "metadata": {},
   "outputs": [],
   "source": [
    "from tensorflow.keras.callbacks import EarlyStopping\n",
    "early_stop = EarlyStopping(monitor=\"val_loss\", mode=\"min\", patience=0,verbose=1)\n",
    "model1.compile(loss = 'categorical_crossentropy',\n",
    "             optimizer = \"adam\",\n",
    "             metrics=[\"accuracy\"])"
   ]
  },
  {
   "cell_type": "code",
   "execution_count": 29,
   "id": "5a655325",
   "metadata": {},
   "outputs": [
    {
     "name": "stdout",
     "output_type": "stream",
     "text": [
      "Epoch 1/15\n",
      "2354/2354 [==============================] - 652s 277ms/step - loss: 2.3528 - accuracy: 0.2829 - val_loss: 1.4844 - val_accuracy: 0.5619\n",
      "Epoch 2/15\n",
      "2354/2354 [==============================] - 615s 261ms/step - loss: 1.1446 - accuracy: 0.6719 - val_loss: 0.8826 - val_accuracy: 0.7419\n",
      "Epoch 3/15\n",
      "2354/2354 [==============================] - 642s 273ms/step - loss: 0.6947 - accuracy: 0.7999 - val_loss: 0.6821 - val_accuracy: 0.8080\n",
      "Epoch 4/15\n",
      "2354/2354 [==============================] - 647s 275ms/step - loss: 0.4979 - accuracy: 0.8573 - val_loss: 0.5869 - val_accuracy: 0.8409\n",
      "Epoch 5/15\n",
      "2354/2354 [==============================] - 620s 263ms/step - loss: 0.3799 - accuracy: 0.8928 - val_loss: 0.5541 - val_accuracy: 0.8623\n",
      "Epoch 6/15\n",
      "2354/2354 [==============================] - 672s 286ms/step - loss: 0.2992 - accuracy: 0.9163 - val_loss: 0.5307 - val_accuracy: 0.8759\n",
      "Epoch 7/15\n",
      "2354/2354 [==============================] - 657s 279ms/step - loss: 0.2467 - accuracy: 0.9320 - val_loss: 0.5253 - val_accuracy: 0.8865\n",
      "Epoch 8/15\n",
      "2354/2354 [==============================] - 648s 275ms/step - loss: 0.2055 - accuracy: 0.9432 - val_loss: 0.5095 - val_accuracy: 0.8962\n",
      "Epoch 9/15\n",
      "2354/2354 [==============================] - 654s 278ms/step - loss: 0.1799 - accuracy: 0.9504 - val_loss: 0.5043 - val_accuracy: 0.9019\n",
      "Epoch 10/15\n",
      "2354/2354 [==============================] - 612s 260ms/step - loss: 0.1588 - accuracy: 0.9565 - val_loss: 0.5159 - val_accuracy: 0.9052\n",
      "Epoch 00010: early stopping\n"
     ]
    },
    {
     "data": {
      "text/plain": [
       "<tensorflow.python.keras.callbacks.History at 0x17de2cabb50>"
      ]
     },
     "execution_count": 29,
     "metadata": {},
     "output_type": "execute_result"
    }
   ],
   "source": [
    "from tensorflow.keras.utils import to_categorical\n",
    "y_train_category = to_categorical(y_train)\n",
    "y_test_category = to_categorical(y_test)\n",
    "batch_size=64\n",
    "epochs = 15\n",
    "model1.fit(X_train, y_train_category, batch_size=batch_size, epochs = epochs, \n",
    "          shuffle=True,validation_data=(X_test, y_test_category), callbacks=[early_stop])"
   ]
  },
  {
   "cell_type": "code",
   "execution_count": 30,
   "id": "aac03c4e",
   "metadata": {},
   "outputs": [
    {
     "data": {
      "text/html": [
       "<div>\n",
       "<style scoped>\n",
       "    .dataframe tbody tr th:only-of-type {\n",
       "        vertical-align: middle;\n",
       "    }\n",
       "\n",
       "    .dataframe tbody tr th {\n",
       "        vertical-align: top;\n",
       "    }\n",
       "\n",
       "    .dataframe thead th {\n",
       "        text-align: right;\n",
       "    }\n",
       "</style>\n",
       "<table border=\"1\" class=\"dataframe\">\n",
       "  <thead>\n",
       "    <tr style=\"text-align: right;\">\n",
       "      <th></th>\n",
       "      <th>loss</th>\n",
       "      <th>accuracy</th>\n",
       "      <th>val_loss</th>\n",
       "      <th>val_accuracy</th>\n",
       "    </tr>\n",
       "  </thead>\n",
       "  <tbody>\n",
       "    <tr>\n",
       "      <th>0</th>\n",
       "      <td>2.352829</td>\n",
       "      <td>0.282905</td>\n",
       "      <td>1.484416</td>\n",
       "      <td>0.561851</td>\n",
       "    </tr>\n",
       "    <tr>\n",
       "      <th>1</th>\n",
       "      <td>1.144577</td>\n",
       "      <td>0.671941</td>\n",
       "      <td>0.882643</td>\n",
       "      <td>0.741858</td>\n",
       "    </tr>\n",
       "    <tr>\n",
       "      <th>2</th>\n",
       "      <td>0.694651</td>\n",
       "      <td>0.799918</td>\n",
       "      <td>0.682112</td>\n",
       "      <td>0.808032</td>\n",
       "    </tr>\n",
       "    <tr>\n",
       "      <th>3</th>\n",
       "      <td>0.497891</td>\n",
       "      <td>0.857262</td>\n",
       "      <td>0.586900</td>\n",
       "      <td>0.840894</td>\n",
       "    </tr>\n",
       "    <tr>\n",
       "      <th>4</th>\n",
       "      <td>0.379925</td>\n",
       "      <td>0.892754</td>\n",
       "      <td>0.554077</td>\n",
       "      <td>0.862307</td>\n",
       "    </tr>\n",
       "    <tr>\n",
       "      <th>5</th>\n",
       "      <td>0.299183</td>\n",
       "      <td>0.916267</td>\n",
       "      <td>0.530747</td>\n",
       "      <td>0.875879</td>\n",
       "    </tr>\n",
       "    <tr>\n",
       "      <th>6</th>\n",
       "      <td>0.246684</td>\n",
       "      <td>0.932004</td>\n",
       "      <td>0.525327</td>\n",
       "      <td>0.886539</td>\n",
       "    </tr>\n",
       "    <tr>\n",
       "      <th>7</th>\n",
       "      <td>0.205459</td>\n",
       "      <td>0.943167</td>\n",
       "      <td>0.509493</td>\n",
       "      <td>0.896207</td>\n",
       "    </tr>\n",
       "    <tr>\n",
       "      <th>8</th>\n",
       "      <td>0.179948</td>\n",
       "      <td>0.950351</td>\n",
       "      <td>0.504278</td>\n",
       "      <td>0.901909</td>\n",
       "    </tr>\n",
       "    <tr>\n",
       "      <th>9</th>\n",
       "      <td>0.158801</td>\n",
       "      <td>0.956454</td>\n",
       "      <td>0.515940</td>\n",
       "      <td>0.905209</td>\n",
       "    </tr>\n",
       "  </tbody>\n",
       "</table>\n",
       "</div>"
      ],
      "text/plain": [
       "       loss  accuracy  val_loss  val_accuracy\n",
       "0  2.352829  0.282905  1.484416      0.561851\n",
       "1  1.144577  0.671941  0.882643      0.741858\n",
       "2  0.694651  0.799918  0.682112      0.808032\n",
       "3  0.497891  0.857262  0.586900      0.840894\n",
       "4  0.379925  0.892754  0.554077      0.862307\n",
       "5  0.299183  0.916267  0.530747      0.875879\n",
       "6  0.246684  0.932004  0.525327      0.886539\n",
       "7  0.205459  0.943167  0.509493      0.896207\n",
       "8  0.179948  0.950351  0.504278      0.901909\n",
       "9  0.158801  0.956454  0.515940      0.905209"
      ]
     },
     "execution_count": 30,
     "metadata": {},
     "output_type": "execute_result"
    }
   ],
   "source": [
    "loss1 = pd.DataFrame(model1.history.history)\n",
    "loss1"
   ]
  },
  {
   "cell_type": "code",
   "execution_count": 31,
   "id": "638337b6",
   "metadata": {},
   "outputs": [
    {
     "data": {
      "image/png": "[encoded data removed]",
      "text/plain": [
       "<Figure size 432x288 with 1 Axes>"
      ]
     },
     "metadata": {
      "needs_background": "light"
     },
     "output_type": "display_data"
    }
   ],
   "source": [
    "plt.plot(loss1[[\"loss\",\"val_loss\"]])\n",
    "plt.show()"
   ]
  },
  {
   "cell_type": "markdown",
   "id": "088442a0",
   "metadata": {},
   "source": [
    "## Classification report for LSTM"
   ]
  },
  {
   "cell_type": "code",
   "execution_count": 33,
   "id": "d7027472",
   "metadata": {},
   "outputs": [
    {
     "name": "stdout",
     "output_type": "stream",
     "text": [
      "WARNING:tensorflow:From <ipython-input-33-249d80ef8f07>:4: Sequential.predict_classes (from tensorflow.python.keras.engine.sequential) is deprecated and will be removed after 2021-01-01.\n",
      "Instructions for updating:\n",
      "Please use instead:* `np.argmax(model.predict(x), axis=-1)`,   if your model does multi-class classification   (e.g. if it uses a `softmax` last-layer activation).* `(model.predict(x) > 0.5).astype(\"int32\")`,   if your model does binary classification   (e.g. if it uses a `sigmoid` last-layer activation).\n",
      "              precision    recall  f1-score   support\n",
      "\n",
      "           0       0.41      0.22      0.29      3210\n",
      "           1       0.74      0.58      0.65      3248\n",
      "           2       0.82      0.69      0.75      3206\n",
      "           3       0.79      0.77      0.78      3254\n",
      "           4       0.90      0.92      0.91      3192\n",
      "           5       0.80      0.86      0.83      3224\n",
      "           6       0.86      0.91      0.88      3270\n",
      "           7       0.82      0.89      0.85      3089\n",
      "           8       0.80      0.90      0.85      3205\n",
      "           9       0.81      0.91      0.85      3191\n",
      "          10       0.94      0.95      0.94      3225\n",
      "          11       0.89      0.97      0.93      3238\n",
      "          12       0.93      0.97      0.95      3239\n",
      "          13       0.88      0.93      0.91      3204\n",
      "          14       0.93      0.95      0.94      3335\n",
      "          15       0.93      0.95      0.94      3257\n",
      "          16       0.96      0.94      0.95      3262\n",
      "          17       0.94      0.98      0.96      3191\n",
      "          18       0.91      0.97      0.94      3224\n",
      "          19       0.91      0.96      0.93      3278\n",
      "\n",
      "    accuracy                           0.86     64542\n",
      "   macro avg       0.85      0.86      0.85     64542\n",
      "weighted avg       0.85      0.86      0.85     64542\n",
      "\n"
     ]
    }
   ],
   "source": [
    "from sklearn.metrics import classification_report, confusion_matrix\n",
    "predictions = model.predict_classes(X_test)\n",
    "print(classification_report(y_test, predictions))"
   ]
  },
  {
   "cell_type": "markdown",
   "id": "f648d0d6",
   "metadata": {},
   "source": [
    "## Classification report for Bi-Directional LSTM"
   ]
  },
  {
   "cell_type": "code",
   "execution_count": 35,
   "id": "cf6c9a30",
   "metadata": {},
   "outputs": [
    {
     "name": "stdout",
     "output_type": "stream",
     "text": [
      "              precision    recall  f1-score   support\n",
      "\n",
      "           0       0.60      0.29      0.39      3210\n",
      "           1       0.73      0.69      0.71      3248\n",
      "           2       0.86      0.74      0.80      3206\n",
      "           3       0.81      0.87      0.84      3254\n",
      "           4       0.94      0.94      0.94      3192\n",
      "           5       0.91      0.91      0.91      3224\n",
      "           6       0.88      0.95      0.92      3270\n",
      "           7       0.89      0.95      0.92      3089\n",
      "           8       0.91      0.95      0.93      3205\n",
      "           9       0.89      0.97      0.92      3191\n",
      "          10       0.95      0.98      0.97      3225\n",
      "          11       0.94      0.98      0.96      3238\n",
      "          12       0.94      0.99      0.96      3239\n",
      "          13       0.94      0.98      0.96      3204\n",
      "          14       0.96      0.98      0.97      3335\n",
      "          15       0.94      0.99      0.96      3257\n",
      "          16       0.95      0.98      0.97      3262\n",
      "          17       0.97      0.99      0.98      3191\n",
      "          18       0.96      0.98      0.97      3224\n",
      "          19       0.95      0.98      0.96      3278\n",
      "\n",
      "    accuracy                           0.91     64542\n",
      "   macro avg       0.90      0.90      0.90     64542\n",
      "weighted avg       0.90      0.91      0.90     64542\n",
      "\n"
     ]
    }
   ],
   "source": [
    "predictions1 = model1.predict_classes(X_test)\n",
    "print(classification_report(y_test, predictions1))"
   ]
  },
  {
   "cell_type": "code",
   "execution_count": 48,
   "id": "542d9ea8",
   "metadata": {},
   "outputs": [],
   "source": [
    "# Saving LSTM Model\n",
    "model.save(\"LSTM.h5\")"
   ]
  },
  {
   "cell_type": "code",
   "execution_count": 49,
   "id": "91106b57",
   "metadata": {},
   "outputs": [],
   "source": [
    "# Saving Bi-Directional LSTM Model\n",
    "model1.save(\"BLSTM.h5\")"
   ]
  },
  {
   "cell_type": "markdown",
   "id": "dbda19da",
   "metadata": {},
   "source": [
    "### RNN"
   ]
  },
  {
   "cell_type": "code",
   "execution_count": 39,
   "id": "8e47a848",
   "metadata": {},
   "outputs": [],
   "source": [
    "from tensorflow.keras.models import Sequential\n",
    "from tensorflow.keras.layers import Dense, Input, Dropout, SimpleRNN,LSTM, Activation"
   ]
  },
  {
   "cell_type": "code",
   "execution_count": 40,
   "id": "47409754",
   "metadata": {},
   "outputs": [
    {
     "name": "stdout",
     "output_type": "stream",
     "text": [
      "Model: \"sequential_2\"\n",
      "_________________________________________________________________\n",
      "Layer (type)                 Output Shape              Param #   \n",
      "=================================================================\n",
      "embedding_2 (Embedding)      (None, 40, 128)           7008128   \n",
      "_________________________________________________________________\n",
      "simple_rnn (SimpleRNN)       (None, 40, 80)            16720     \n",
      "_________________________________________________________________\n",
      "dropout_4 (Dropout)          (None, 40, 80)            0         \n",
      "_________________________________________________________________\n",
      "simple_rnn_1 (SimpleRNN)     (None, 64)                9280      \n",
      "_________________________________________________________________\n",
      "dropout_5 (Dropout)          (None, 64)                0         \n",
      "_________________________________________________________________\n",
      "dense_3 (Dense)              (None, 5)                 325       \n",
      "_________________________________________________________________\n",
      "dense_4 (Dense)              (None, 20)                120       \n",
      "=================================================================\n",
      "Total params: 7,034,573\n",
      "Trainable params: 7,034,573\n",
      "Non-trainable params: 0\n",
      "_________________________________________________________________\n"
     ]
    }
   ],
   "source": [
    "# A simple RNN network to classify the emoji class from an input Sentence\n",
    "model2 = Sequential()\n",
    "model2.add(Embedding(vocabulary_size+1, embed_len, input_length=seq_len))\n",
    "model2.add(SimpleRNN(units =80, return_sequences=True))\n",
    "model2.add(Dropout(0.5))\n",
    "model2.add(SimpleRNN(64, return_sequences=False))\n",
    "model2.add(Dropout(0.5))\n",
    "model2.add(Dense(5))\n",
    "model2.add(Dense(units=20, activation='softmax'))\n",
    "model2.summary()"
   ]
  },
  {
   "cell_type": "code",
   "execution_count": 41,
   "id": "058a5570",
   "metadata": {},
   "outputs": [],
   "source": [
    "# Setting Loss and Optimiser for the model\n",
    "model2.compile(loss='binary_crossentropy', optimizer='adam', metrics=['accuracy'])"
   ]
  },
  {
   "cell_type": "code",
   "execution_count": 43,
   "id": "02f20b71",
   "metadata": {},
   "outputs": [
    {
     "name": "stdout",
     "output_type": "stream",
     "text": [
      "Epoch 1/15\n",
      "2354/2354 [==============================] - 276s 117ms/step - loss: 0.1389 - accuracy: 0.4154 - val_loss: 0.0740 - val_accuracy: 0.7263\n",
      "Epoch 2/15\n",
      "2354/2354 [==============================] - 275s 117ms/step - loss: 0.0620 - accuracy: 0.7743 - val_loss: 0.0474 - val_accuracy: 0.8285\n",
      "Epoch 3/15\n",
      "2354/2354 [==============================] - 272s 115ms/step - loss: 0.0417 - accuracy: 0.8494 - val_loss: 0.0412 - val_accuracy: 0.8596\n",
      "Epoch 4/15\n",
      "2354/2354 [==============================] - 262s 111ms/step - loss: 0.0332 - accuracy: 0.8831 - val_loss: 0.0401 - val_accuracy: 0.8712\n",
      "Epoch 5/15\n",
      "2354/2354 [==============================] - 262s 111ms/step - loss: 0.0280 - accuracy: 0.9044 - val_loss: 0.0393 - val_accuracy: 0.8806\n",
      "Epoch 6/15\n",
      "2354/2354 [==============================] - 261s 111ms/step - loss: 0.0244 - accuracy: 0.9187 - val_loss: 0.0392 - val_accuracy: 0.8880\n",
      "Epoch 7/15\n",
      "2354/2354 [==============================] - 264s 112ms/step - loss: 0.0218 - accuracy: 0.9287 - val_loss: 0.0400 - val_accuracy: 0.8914\n",
      "Epoch 00007: early stopping\n"
     ]
    },
    {
     "data": {
      "text/plain": [
       "<tensorflow.python.keras.callbacks.History at 0x17dfae98a30>"
      ]
     },
     "execution_count": 43,
     "metadata": {},
     "output_type": "execute_result"
    }
   ],
   "source": [
    "y_train_category = to_categorical(y_train)\n",
    "y_test_category = to_categorical(y_test)\n",
    "batch_size=64\n",
    "epochs = 15\n",
    "model2.fit(X_train, y_train_category, batch_size=batch_size, epochs = epochs, shuffle=True,\n",
    "          validation_data=(X_test, y_test_category), callbacks=[early_stop])"
   ]
  },
  {
   "cell_type": "markdown",
   "id": "2e8b8faa",
   "metadata": {},
   "source": [
    "## Classification report for RNN"
   ]
  },
  {
   "cell_type": "code",
   "execution_count": 44,
   "id": "ae7b3ff0",
   "metadata": {},
   "outputs": [
    {
     "name": "stdout",
     "output_type": "stream",
     "text": [
      "              precision    recall  f1-score   support\n",
      "\n",
      "           0       0.47      0.28      0.35      3210\n",
      "           1       0.75      0.67      0.71      3248\n",
      "           2       0.87      0.69      0.77      3206\n",
      "           3       0.78      0.87      0.82      3254\n",
      "           4       0.91      0.92      0.92      3192\n",
      "           5       0.89      0.90      0.90      3224\n",
      "           6       0.91      0.94      0.92      3270\n",
      "           7       0.89      0.94      0.91      3089\n",
      "           8       0.89      0.93      0.91      3205\n",
      "           9       0.90      0.93      0.92      3191\n",
      "          10       0.95      0.97      0.96      3225\n",
      "          11       0.95      0.97      0.96      3238\n",
      "          12       0.93      0.97      0.95      3239\n",
      "          13       0.90      0.97      0.93      3204\n",
      "          14       0.92      0.98      0.95      3335\n",
      "          15       0.93      0.98      0.95      3257\n",
      "          16       0.95      0.97      0.96      3262\n",
      "          17       0.95      0.98      0.96      3191\n",
      "          18       0.95      0.98      0.96      3224\n",
      "          19       0.94      0.98      0.96      3278\n",
      "\n",
      "    accuracy                           0.89     64542\n",
      "   macro avg       0.88      0.89      0.88     64542\n",
      "weighted avg       0.88      0.89      0.88     64542\n",
      "\n"
     ]
    }
   ],
   "source": [
    "predictions2 = model2.predict_classes(X_test)\n",
    "print(classification_report(y_test, predictions2))"
   ]
  },
  {
   "cell_type": "code",
   "execution_count": 47,
   "id": "6f8a14fe",
   "metadata": {},
   "outputs": [],
   "source": [
    "# Saving RNN Model\n",
    "model2.save(\"RNN.h5\")"
   ]
  },
  {
   "cell_type": "code",
   "execution_count": 1,
   "id": "77f0a194",
   "metadata": {},
   "outputs": [],
   "source": [
    "import matplotlib.pyplot as plt\n",
    "import seaborn as sns"
   ]
  },
  {
   "cell_type": "code",
   "execution_count": 6,
   "id": "9857fe74",
   "metadata": {},
   "outputs": [
    {
     "data": {
      "image/png": "[encoded data removed]",
      "text/plain": [
       "<Figure size 1440x720 with 1 Axes>"
      ]
     },
     "metadata": {},
     "output_type": "display_data"
    }
   ],
   "source": [
    "plt.figure(figsize=(20,10))\n",
    "accuracy=[0.86,0.91,0.89,0.23,0.28,0.28,0.23,0.31,0.31]\n",
    "labels=['LSTM','Bidirectional LSTM','RNN','Decision Tree','Logistic Regression','Multinomial Naive Bayes','Random Forest','SVM','XGBoost']\n",
    "sns.set(rc={'figure.figsize':(8,6)})\n",
    "ax = sns.barplot(x=labels, y=accuracy)\n",
    "ax.set(xlabel='Model', ylabel='Accuracy')\n",
    "plt.show()"
   ]
  },
  {
   "cell_type": "code",
   "execution_count": 25,
   "id": "4b0f4607",
   "metadata": {},
   "outputs": [
    {
     "data": {
      "image/png": "[encoded data removed]",
      "text/plain": [
       "<Figure size 720x720 with 1 Axes>"
      ]
     },
     "metadata": {},
     "output_type": "display_data"
    }
   ],
   "source": [
    "plt.figure(figsize=(10,10))\n",
    "accuracy=[0.27,0.86]\n",
    "labels=['Machine Learning','Deep Learning']\n",
    "sns.set(rc={'figure.figsize':(8,6)})\n",
    "ax = sns.barplot(x=labels, y=accuracy)\n",
    "ax.set(xlabel='Model', ylabel='Average Accuracy')\n",
    "plt.show()"
   ]
  },
  {
   "cell_type": "code",
   "execution_count": null,
   "id": "b54eb47c",
   "metadata": {},
   "outputs": [],
   "source": []
  }
 ],
 "metadata": {
  "kernelspec": {
   "display_name": "Python 3",
   "language": "python",
   "name": "python3"
  },
  "language_info": {
   "codemirror_mode": {
    "name": "ipython",
    "version": 3
   },
   "file_extension": ".py",
   "mimetype": "text/x-python",
   "name": "python",
   "nbconvert_exporter": "python",
   "pygments_lexer": "ipython3",
   "version": "3.8.8"
  }
 },
 "nbformat": 4,
 "nbformat_minor": 5
}
