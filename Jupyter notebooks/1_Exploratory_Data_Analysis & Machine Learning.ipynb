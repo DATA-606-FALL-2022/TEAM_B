{
 "cells": [
  {
   "cell_type": "markdown",
   "id": "ccf6ed15",
   "metadata": {},
   "source": [
    "## Importing Libraries"
   ]
  },
  {
   "cell_type": "code",
   "execution_count": 1,
   "id": "f76f3d28",
   "metadata": {},
   "outputs": [],
   "source": [
    "import os\n",
    "import numpy as np\n",
    "import pandas as pd\n",
    "import matplotlib.pyplot as plt\n",
    "import seaborn as sns\n",
    "import warnings\n",
    "warnings.filterwarnings(action='ignore')"
   ]
  },
  {
   "cell_type": "markdown",
   "id": "5ca6388a",
   "metadata": {},
   "source": [
    "## Reading the dataset into dataframe"
   ]
  },
  {
   "cell_type": "code",
   "execution_count": 2,
   "id": "a95c295a",
   "metadata": {},
   "outputs": [
    {
     "data": {
      "text/html": [
       "<div>\n",
       "<style scoped>\n",
       "    .dataframe tbody tr th:only-of-type {\n",
       "        vertical-align: middle;\n",
       "    }\n",
       "\n",
       "    .dataframe tbody tr th {\n",
       "        vertical-align: top;\n",
       "    }\n",
       "\n",
       "    .dataframe thead th {\n",
       "        text-align: right;\n",
       "    }\n",
       "</style>\n",
       "<table border=\"1\" class=\"dataframe\">\n",
       "  <thead>\n",
       "    <tr style=\"text-align: right;\">\n",
       "      <th></th>\n",
       "      <th>Tweet</th>\n",
       "      <th>Label</th>\n",
       "    </tr>\n",
       "  </thead>\n",
       "  <tbody>\n",
       "    <tr>\n",
       "      <th>0</th>\n",
       "      <td>A little throwback with my favourite person @ ...</td>\n",
       "      <td>0</td>\n",
       "    </tr>\n",
       "    <tr>\n",
       "      <th>1</th>\n",
       "      <td>glam on @user yesterday for #kcon makeup using...</td>\n",
       "      <td>7</td>\n",
       "    </tr>\n",
       "    <tr>\n",
       "      <th>2</th>\n",
       "      <td>Democracy Plaza in the wake of a stunning outc...</td>\n",
       "      <td>11</td>\n",
       "    </tr>\n",
       "    <tr>\n",
       "      <th>3</th>\n",
       "      <td>Then &amp;amp; Now. VILO @ Walt Disney Magic Kingdom</td>\n",
       "      <td>0</td>\n",
       "    </tr>\n",
       "    <tr>\n",
       "      <th>4</th>\n",
       "      <td>Who never... @ A Galaxy Far Far Away</td>\n",
       "      <td>2</td>\n",
       "    </tr>\n",
       "    <tr>\n",
       "      <th>...</th>\n",
       "      <td>...</td>\n",
       "      <td>...</td>\n",
       "    </tr>\n",
       "    <tr>\n",
       "      <th>49995</th>\n",
       "      <td>My #O2otd Love this chain so much and our new ...</td>\n",
       "      <td>1</td>\n",
       "    </tr>\n",
       "    <tr>\n",
       "      <th>49996</th>\n",
       "      <td>Met Santa and Olaf @ the North Pole today @ No...</td>\n",
       "      <td>0</td>\n",
       "    </tr>\n",
       "    <tr>\n",
       "      <th>49997</th>\n",
       "      <td>New York by Night Strideby #HERElocationNYC......</td>\n",
       "      <td>11</td>\n",
       "    </tr>\n",
       "    <tr>\n",
       "      <th>49998</th>\n",
       "      <td>Kisses for the birthday girl! @ Helzberg Diamonds</td>\n",
       "      <td>0</td>\n",
       "    </tr>\n",
       "    <tr>\n",
       "      <th>49999</th>\n",
       "      <td>Dinner with this priceless view!Thank you, S #...</td>\n",
       "      <td>9</td>\n",
       "    </tr>\n",
       "  </tbody>\n",
       "</table>\n",
       "<p>50000 rows × 2 columns</p>\n",
       "</div>"
      ],
      "text/plain": [
       "                                                   Tweet  Label\n",
       "0      A little throwback with my favourite person @ ...      0\n",
       "1      glam on @user yesterday for #kcon makeup using...      7\n",
       "2      Democracy Plaza in the wake of a stunning outc...     11\n",
       "3       Then &amp; Now. VILO @ Walt Disney Magic Kingdom      0\n",
       "4                   Who never... @ A Galaxy Far Far Away      2\n",
       "...                                                  ...    ...\n",
       "49995  My #O2otd Love this chain so much and our new ...      1\n",
       "49996  Met Santa and Olaf @ the North Pole today @ No...      0\n",
       "49997  New York by Night Strideby #HERElocationNYC......     11\n",
       "49998  Kisses for the birthday girl! @ Helzberg Diamonds      0\n",
       "49999  Dinner with this priceless view!Thank you, S #...      9\n",
       "\n",
       "[50000 rows x 2 columns]"
      ]
     },
     "execution_count": 2,
     "metadata": {},
     "output_type": "execute_result"
    }
   ],
   "source": [
    "#Creating a dataframe called emoji_data\n",
    "emoji_data = pd.read_csv(\"twitter_data.csv\")\n",
    "emoji_data"
   ]
  },
  {
   "cell_type": "code",
   "execution_count": 3,
   "id": "9b549a13",
   "metadata": {},
   "outputs": [
    {
     "data": {
      "text/html": [
       "<div>\n",
       "<style scoped>\n",
       "    .dataframe tbody tr th:only-of-type {\n",
       "        vertical-align: middle;\n",
       "    }\n",
       "\n",
       "    .dataframe tbody tr th {\n",
       "        vertical-align: top;\n",
       "    }\n",
       "\n",
       "    .dataframe thead th {\n",
       "        text-align: right;\n",
       "    }\n",
       "</style>\n",
       "<table border=\"1\" class=\"dataframe\">\n",
       "  <thead>\n",
       "    <tr style=\"text-align: right;\">\n",
       "      <th></th>\n",
       "      <th>Tweet</th>\n",
       "      <th>Label</th>\n",
       "    </tr>\n",
       "  </thead>\n",
       "  <tbody>\n",
       "    <tr>\n",
       "      <th>0</th>\n",
       "      <td>A little throwback with my favourite person @ ...</td>\n",
       "      <td>0</td>\n",
       "    </tr>\n",
       "    <tr>\n",
       "      <th>1</th>\n",
       "      <td>glam on @user yesterday for #kcon makeup using...</td>\n",
       "      <td>7</td>\n",
       "    </tr>\n",
       "    <tr>\n",
       "      <th>2</th>\n",
       "      <td>Democracy Plaza in the wake of a stunning outc...</td>\n",
       "      <td>11</td>\n",
       "    </tr>\n",
       "    <tr>\n",
       "      <th>3</th>\n",
       "      <td>Then &amp;amp; Now. VILO @ Walt Disney Magic Kingdom</td>\n",
       "      <td>0</td>\n",
       "    </tr>\n",
       "    <tr>\n",
       "      <th>4</th>\n",
       "      <td>Who never... @ A Galaxy Far Far Away</td>\n",
       "      <td>2</td>\n",
       "    </tr>\n",
       "    <tr>\n",
       "      <th>5</th>\n",
       "      <td>Dinner in FLA tonight // Pan-seared salmon ove...</td>\n",
       "      <td>1</td>\n",
       "    </tr>\n",
       "    <tr>\n",
       "      <th>6</th>\n",
       "      <td>It's my fav seniors last game congrats on beat...</td>\n",
       "      <td>8</td>\n",
       "    </tr>\n",
       "    <tr>\n",
       "      <th>7</th>\n",
       "      <td>I got to to go formal with my best friend @ Ph...</td>\n",
       "      <td>0</td>\n",
       "    </tr>\n",
       "    <tr>\n",
       "      <th>8</th>\n",
       "      <td>'Cause I Miss My Little Homies .#Throwback #Co...</td>\n",
       "      <td>13</td>\n",
       "    </tr>\n",
       "    <tr>\n",
       "      <th>9</th>\n",
       "      <td>Birthday Kisses @ Madison, Wisconsin</td>\n",
       "      <td>9</td>\n",
       "    </tr>\n",
       "  </tbody>\n",
       "</table>\n",
       "</div>"
      ],
      "text/plain": [
       "                                               Tweet  Label\n",
       "0  A little throwback with my favourite person @ ...      0\n",
       "1  glam on @user yesterday for #kcon makeup using...      7\n",
       "2  Democracy Plaza in the wake of a stunning outc...     11\n",
       "3   Then &amp; Now. VILO @ Walt Disney Magic Kingdom      0\n",
       "4               Who never... @ A Galaxy Far Far Away      2\n",
       "5  Dinner in FLA tonight // Pan-seared salmon ove...      1\n",
       "6  It's my fav seniors last game congrats on beat...      8\n",
       "7  I got to to go formal with my best friend @ Ph...      0\n",
       "8  'Cause I Miss My Little Homies .#Throwback #Co...     13\n",
       "9               Birthday Kisses @ Madison, Wisconsin      9"
      ]
     },
     "execution_count": 3,
     "metadata": {},
     "output_type": "execute_result"
    }
   ],
   "source": [
    "emoji_data.head(10)"
   ]
  },
  {
   "cell_type": "markdown",
   "id": "abdc182c",
   "metadata": {},
   "source": [
    "## Find out number of observatoins and columns"
   ]
  },
  {
   "cell_type": "code",
   "execution_count": 4,
   "id": "45c80f94",
   "metadata": {},
   "outputs": [
    {
     "data": {
      "text/plain": [
       "(50000, 2)"
      ]
     },
     "execution_count": 4,
     "metadata": {},
     "output_type": "execute_result"
    }
   ],
   "source": [
    "emoji_data.shape"
   ]
  },
  {
   "cell_type": "markdown",
   "id": "02e1c617",
   "metadata": {},
   "source": [
    "### From the above we can see that there are 50000 observations and 2 columns"
   ]
  },
  {
   "cell_type": "markdown",
   "id": "94a9e5e7",
   "metadata": {},
   "source": [
    "## Column data types"
   ]
  },
  {
   "cell_type": "code",
   "execution_count": 5,
   "id": "cf1a67e5",
   "metadata": {},
   "outputs": [
    {
     "name": "stdout",
     "output_type": "stream",
     "text": [
      "<class 'pandas.core.frame.DataFrame'>\n",
      "RangeIndex: 50000 entries, 0 to 49999\n",
      "Data columns (total 2 columns):\n",
      " #   Column  Non-Null Count  Dtype \n",
      "---  ------  --------------  ----- \n",
      " 0   Tweet   50000 non-null  object\n",
      " 1   Label   50000 non-null  int64 \n",
      "dtypes: int64(1), object(1)\n",
      "memory usage: 781.4+ KB\n"
     ]
    }
   ],
   "source": [
    "emoji_data.info()"
   ]
  },
  {
   "cell_type": "code",
   "execution_count": 6,
   "id": "c53b81d2",
   "metadata": {},
   "outputs": [
    {
     "data": {
      "text/plain": [
       "Tweet    object\n",
       "Label     int64\n",
       "dtype: object"
      ]
     },
     "execution_count": 6,
     "metadata": {},
     "output_type": "execute_result"
    }
   ],
   "source": [
    "emoji_data.dtypes"
   ]
  },
  {
   "cell_type": "markdown",
   "id": "867736f5",
   "metadata": {},
   "source": [
    "## Checking for number of unique categories for categorical variables."
   ]
  },
  {
   "cell_type": "code",
   "execution_count": 7,
   "id": "1e3778fa",
   "metadata": {},
   "outputs": [
    {
     "name": "stdout",
     "output_type": "stream",
     "text": [
      "49767\n"
     ]
    }
   ],
   "source": [
    "print(emoji_data[\"Tweet\"].nunique())"
   ]
  },
  {
   "cell_type": "code",
   "execution_count": 8,
   "id": "1277b1c8",
   "metadata": {},
   "outputs": [
    {
     "data": {
      "text/plain": [
       "@ New York, New York                                                                            25\n",
       "@ Los Angeles, California                                                                       15\n",
       "@ Disney's Magic Kingdom                                                                        13\n",
       "@ Epcot - Walt Disney World                                                                      7\n",
       "@ Times Square, New York City                                                                    6\n",
       "                                                                                                ..\n",
       "#Repost @user wee video... #SpiritAnimals #RotofugiGallery #FauxTaxidermy…                       1\n",
       "Round 2 for Walking Tacos! Come quick while supplies last Hope everyone has a great day!…        1\n",
       "Love all the artwork at the z lot : electriclindsayland @ The Z                                  1\n",
       "See you in 2 months, Baby Lana! @ La Macro                                                       1\n",
       "Dinner with this priceless view!Thank you, S #anniversarydinner #columbuscircle #august23rd…     1\n",
       "Name: Tweet, Length: 49767, dtype: int64"
      ]
     },
     "execution_count": 8,
     "metadata": {},
     "output_type": "execute_result"
    }
   ],
   "source": [
    "emoji_data['Tweet'].value_counts()"
   ]
  },
  {
   "cell_type": "markdown",
   "id": "955ea709",
   "metadata": {},
   "source": [
    "## Checking for missing values"
   ]
  },
  {
   "cell_type": "code",
   "execution_count": 9,
   "id": "59e4d037",
   "metadata": {},
   "outputs": [
    {
     "data": {
      "text/plain": [
       "Tweet    0\n",
       "Label    0\n",
       "dtype: int64"
      ]
     },
     "execution_count": 9,
     "metadata": {},
     "output_type": "execute_result"
    }
   ],
   "source": [
    "emoji_data.isnull().sum()"
   ]
  },
  {
   "cell_type": "markdown",
   "id": "c5d1cb35",
   "metadata": {},
   "source": [
    "## Distribution of target column ('Label')"
   ]
  },
  {
   "cell_type": "code",
   "execution_count": 9,
   "id": "6c3f67bb",
   "metadata": {},
   "outputs": [
    {
     "data": {
      "image/png": "[encoded data removed]",
      "text/plain": [
       "<Figure size 720x720 with 1 Axes>"
      ]
     },
     "metadata": {
      "needs_background": "light"
     },
     "output_type": "display_data"
    }
   ],
   "source": [
    "## Since the target column is 'Label' we are going to find out the distribution of it\n",
    "plt.figure(figsize=(10,10))\n",
    "sns.countplot(x=\"Label\", data=emoji_data, palette=\"cividis\")\n",
    "plt.show()"
   ]
  },
  {
   "cell_type": "code",
   "execution_count": 11,
   "id": "12b874ef",
   "metadata": {},
   "outputs": [
    {
     "data": {
      "text/plain": [
       "0     10760\n",
       "1      5279\n",
       "2      5241\n",
       "3      2885\n",
       "4      2517\n",
       "5      2317\n",
       "6      2049\n",
       "7      1894\n",
       "8      1796\n",
       "9      1671\n",
       "10     1544\n",
       "11     1528\n",
       "12     1462\n",
       "14     1377\n",
       "13     1346\n",
       "16     1306\n",
       "18     1286\n",
       "17     1279\n",
       "15     1249\n",
       "19     1214\n",
       "Name: Label, dtype: int64"
      ]
     },
     "execution_count": 11,
     "metadata": {},
     "output_type": "execute_result"
    }
   ],
   "source": [
    "emoji_data['Label'].value_counts()"
   ]
  },
  {
   "cell_type": "markdown",
   "id": "7da20a61",
   "metadata": {},
   "source": [
    "## Distribution of length of tweets"
   ]
  },
  {
   "cell_type": "code",
   "execution_count": 23,
   "id": "c9d3972f",
   "metadata": {},
   "outputs": [
    {
     "data": {
      "image/png": "[encoded data removed]",
      "text/plain": [
       "<Figure size 720x360 with 1 Axes>"
      ]
     },
     "metadata": {},
     "output_type": "display_data"
    }
   ],
   "source": [
    "plt.figure(figsize=(10,5))\n",
    "sns.set_style('darkgrid')\n",
    "sns.histplot(emoji_data[\"Tweet\"].apply(len),color='green')\n",
    "plt.show()"
   ]
  },
  {
   "cell_type": "markdown",
   "id": "35142ac2",
   "metadata": {},
   "source": [
    "## Emoji Mapping "
   ]
  },
  {
   "cell_type": "code",
   "execution_count": 24,
   "id": "79b182f8",
   "metadata": {},
   "outputs": [
    {
     "name": "stdout",
     "output_type": "stream",
     "text": [
      "0\t❤️\t Red heart\t\n",
      "\n",
      "1\t😍\t Smiling face with hearteyes\t\n",
      "\n",
      "2\t😂\t Face with tears of joy\t\n",
      "\n",
      "3\t💕\t Two hearts\n",
      "\n",
      "4\t🔥\t Fire\n",
      "\n",
      "5\t😊\t Smiling face with smiling eyes\t\n",
      "\n",
      "6\t😎\t Smiling face with sunglasses\t\n",
      "\n",
      "7\t✨\t Sparkles \t\n",
      "\n",
      "8\t💙\t Blue heart\n",
      "\n",
      "9\t😘\t Face blowing a kiss\t\n",
      "\n",
      "10\t📷\t Camera\t\n",
      "\n",
      "11\t🇺🇸\t United States\t\n",
      "\n",
      "12\t☀️\t Sun\n",
      "\n",
      "13\t💜\t Purple heart \t\n",
      "\n",
      "14\t😉\t Winking face\t\n",
      "\n",
      "15\t💯\t Hundred points\t\n",
      "\n",
      "16\t😁\t Beaming face with smiling eyes\t\n",
      "\n",
      "17\t🎄\tChristmas tree\t\n",
      "\n",
      "18\t📸\tCamera with flash\n",
      "\n",
      "19\t😜\tWinking face with tongue\t\n",
      "\n"
     ]
    }
   ],
   "source": [
    "emoji_raw = open('us_mapping.txt','r',encoding=\"utf8\")\n",
    "\n",
    "emojis=[]\n",
    "for sentence in emoji_raw:\n",
    "    print(sentence)\n",
    "    sentence = sentence.rstrip()\n",
    "    emojis.append(sentence)\n",
    "\n",
    "mapp = []\n",
    "emos = []\n",
    "sent = []\n",
    "\n",
    "for e in emojis:\n",
    "    mapp.append(e.split()[0])\n",
    "    emos.append(e.split()[1])\n",
    "    sent.append(\" \".join(e.split()[2:]))\n",
    "\n",
    "df_em = pd.DataFrame({'Label':mapp})\n",
    "df_em[\"Emoji\"] = emos\n",
    "df_em[\"Description\"] = sent"
   ]
  },
  {
   "cell_type": "markdown",
   "id": "400a5853",
   "metadata": {},
   "source": [
    "## Pre-Processing & Cleaning of Data for Machine Learning Modeling"
   ]
  },
  {
   "cell_type": "markdown",
   "id": "375e6b0e",
   "metadata": {},
   "source": [
    "### Cleaning of tweets from dataset"
   ]
  },
  {
   "cell_type": "code",
   "execution_count": 25,
   "id": "5f234efa",
   "metadata": {},
   "outputs": [],
   "source": [
    "import string\n",
    "import re \n",
    "\n",
    "def tweet_clean(tweet):\n",
    "    tweet = str(tweet).lower()                                             # Converting text to lower case.\n",
    "    rm_mention = re.sub(r'@[A-Za-z0-9]+', '', tweet)                       # '@' mentioned in tweets to be deleted\n",
    "    rm_rt = re.sub(r'RT[/s]+', '', rm_mention)                             #  RT mentioned in tweets to be deleted \n",
    "    rm_links = re.sub(r'http\\S+', '', rm_rt)                               #  hyperlinks in tweets to be deleted\n",
    "    rm_links = re.sub(r'https?:\\/\\/\\S+','', rm_links)\n",
    "    rm_nums = re.sub('[0-9]+', '', rm_links)                               # numbers in tweets to be deleted\n",
    "    rm_punc = [char for char in rm_nums if char not in string.punctuation] # punctuations in tweets to be deleted\n",
    "    rm_punc = ''.join(rm_punc)\n",
    "    cleaned = rm_punc\n",
    "    \n",
    "    return cleaned"
   ]
  },
  {
   "cell_type": "code",
   "execution_count": 26,
   "id": "1ec3ba08",
   "metadata": {},
   "outputs": [
    {
     "name": "stdout",
     "output_type": "stream",
     "text": [
      "Cleaned :  who never  a galaxy far far away\n"
     ]
    }
   ],
   "source": [
    "Cleaned_tweet = emoji_data['Tweet'][4]\n",
    "cleaned = tweet_clean(Cleaned_tweet)\n",
    "print(\"Cleaned : \",cleaned)"
   ]
  },
  {
   "cell_type": "code",
   "execution_count": 27,
   "id": "82a519b4",
   "metadata": {},
   "outputs": [
    {
     "data": {
      "text/html": [
       "<div>\n",
       "<style scoped>\n",
       "    .dataframe tbody tr th:only-of-type {\n",
       "        vertical-align: middle;\n",
       "    }\n",
       "\n",
       "    .dataframe tbody tr th {\n",
       "        vertical-align: top;\n",
       "    }\n",
       "\n",
       "    .dataframe thead th {\n",
       "        text-align: right;\n",
       "    }\n",
       "</style>\n",
       "<table border=\"1\" class=\"dataframe\">\n",
       "  <thead>\n",
       "    <tr style=\"text-align: right;\">\n",
       "      <th></th>\n",
       "      <th>Tweet</th>\n",
       "      <th>Label</th>\n",
       "    </tr>\n",
       "  </thead>\n",
       "  <tbody>\n",
       "    <tr>\n",
       "      <th>0</th>\n",
       "      <td>a little throwback with my favourite person  w...</td>\n",
       "      <td>0</td>\n",
       "    </tr>\n",
       "    <tr>\n",
       "      <th>1</th>\n",
       "      <td>glam on  yesterday for kcon makeup using  in f...</td>\n",
       "      <td>7</td>\n",
       "    </tr>\n",
       "    <tr>\n",
       "      <th>2</th>\n",
       "      <td>democracy plaza in the wake of a stunning outc...</td>\n",
       "      <td>11</td>\n",
       "    </tr>\n",
       "    <tr>\n",
       "      <th>3</th>\n",
       "      <td>then amp now vilo  walt disney magic kingdom</td>\n",
       "      <td>0</td>\n",
       "    </tr>\n",
       "    <tr>\n",
       "      <th>4</th>\n",
       "      <td>who never  a galaxy far far away</td>\n",
       "      <td>2</td>\n",
       "    </tr>\n",
       "  </tbody>\n",
       "</table>\n",
       "</div>"
      ],
      "text/plain": [
       "                                               Tweet  Label\n",
       "0  a little throwback with my favourite person  w...      0\n",
       "1  glam on  yesterday for kcon makeup using  in f...      7\n",
       "2  democracy plaza in the wake of a stunning outc...     11\n",
       "3       then amp now vilo  walt disney magic kingdom      0\n",
       "4                   who never  a galaxy far far away      2"
      ]
     },
     "execution_count": 27,
     "metadata": {},
     "output_type": "execute_result"
    }
   ],
   "source": [
    "emoji_data[\"Tweet\"] = emoji_data[\"Tweet\"].apply(tweet_clean)\n",
    "emoji_data.head(5)"
   ]
  },
  {
   "cell_type": "markdown",
   "id": "0b625f80",
   "metadata": {},
   "source": [
    "## Pre-Processing of tweets by Removal of Stop words & Lemmatization of text"
   ]
  },
  {
   "cell_type": "code",
   "execution_count": 28,
   "id": "e7e0bc2e",
   "metadata": {},
   "outputs": [
    {
     "name": "stderr",
     "output_type": "stream",
     "text": [
      "[nltk_data] Downloading package wordnet to\n",
      "[nltk_data]     C:\\Users\\vaibh\\AppData\\Roaming\\nltk_data...\n",
      "[nltk_data]   Package wordnet is already up-to-date!\n"
     ]
    }
   ],
   "source": [
    "import nltk\n",
    "nltk.download('wordnet')                                        # To find releationship between words such as synonyms and antonyms etc. \n",
    "import spacy                                                    # It helps to build information extraction of nlp. \n",
    "from nltk.stem import WordNetLemmatizer\n",
    "nlp = spacy.load(\"en_core_web_sm\")                              # It is a small English pipeline trained on written web text\n",
    "lemmatizer = WordNetLemmatizer()\n",
    "def tweet_preprocessing(tweet, nlp=nlp, lemmatizer=lemmatizer):\n",
    "    stop_words = nlp.Defaults.stop_words     \n",
    "    rm_stop_words_lemma = []\n",
    "    doc = nlp(tweet)\n",
    "    for token in doc:                                            \n",
    "        if token.text not in stop_words and token.pos_!=\"PUNCT\": # removing stop words such as a, an, the\n",
    "            lemma_word = lemmatizer.lemmatize(token.text)        # lemmatizing the tweets\n",
    "            rm_stop_words_lemma.append(lemma_word)                  \n",
    "    processed = \" \".join(rm_stop_words_lemma)\n",
    "    return processed"
   ]
  },
  {
   "cell_type": "code",
   "execution_count": 30,
   "id": "57753625",
   "metadata": {},
   "outputs": [
    {
     "name": "stdout",
     "output_type": "stream",
     "text": [
      "Sample    :  who never  a galaxy far far away\n",
      "Processed :    galaxy far far away\n"
     ]
    }
   ],
   "source": [
    "tweet_sample = emoji_data['Tweet'][4]\n",
    "cleaned_sample = tweet_clean(tweet_sample)\n",
    "print(\"Sample    : \",cleaned_sample)\n",
    "print(\"Processed : \",tweet_preprocessing(cleaned_sample))"
   ]
  },
  {
   "cell_type": "code",
   "execution_count": 19,
   "id": "c7d169f1",
   "metadata": {},
   "outputs": [
    {
     "data": {
      "text/html": [
       "<div>\n",
       "<style scoped>\n",
       "    .dataframe tbody tr th:only-of-type {\n",
       "        vertical-align: middle;\n",
       "    }\n",
       "\n",
       "    .dataframe tbody tr th {\n",
       "        vertical-align: top;\n",
       "    }\n",
       "\n",
       "    .dataframe thead th {\n",
       "        text-align: right;\n",
       "    }\n",
       "</style>\n",
       "<table border=\"1\" class=\"dataframe\">\n",
       "  <thead>\n",
       "    <tr style=\"text-align: right;\">\n",
       "      <th></th>\n",
       "      <th>Tweet</th>\n",
       "      <th>Label</th>\n",
       "    </tr>\n",
       "  </thead>\n",
       "  <tbody>\n",
       "    <tr>\n",
       "      <th>0</th>\n",
       "      <td>little throwback favourite person   water wall</td>\n",
       "      <td>0</td>\n",
       "    </tr>\n",
       "    <tr>\n",
       "      <th>1</th>\n",
       "      <td>glam   yesterday kcon makeup   featherette</td>\n",
       "      <td>7</td>\n",
       "    </tr>\n",
       "    <tr>\n",
       "      <th>2</th>\n",
       "      <td>democracy plaza wake stunning outcome decision...</td>\n",
       "      <td>11</td>\n",
       "    </tr>\n",
       "    <tr>\n",
       "      <th>3</th>\n",
       "      <td>amp vilo   walt disney magic kingdom</td>\n",
       "      <td>0</td>\n",
       "    </tr>\n",
       "    <tr>\n",
       "      <th>4</th>\n",
       "      <td>galaxy far far away</td>\n",
       "      <td>2</td>\n",
       "    </tr>\n",
       "    <tr>\n",
       "      <th>5</th>\n",
       "      <td>dinner fla tonight   panseared salmon couscous...</td>\n",
       "      <td>1</td>\n",
       "    </tr>\n",
       "    <tr>\n",
       "      <th>6</th>\n",
       "      <td>fav senior game congrats beating west   west s...</td>\n",
       "      <td>8</td>\n",
       "    </tr>\n",
       "    <tr>\n",
       "      <th>7</th>\n",
       "      <td>got formal best friend   phi mu jsu</td>\n",
       "      <td>0</td>\n",
       "    </tr>\n",
       "    <tr>\n",
       "      <th>8</th>\n",
       "      <td>cause miss little homies throwback cousinlove ...</td>\n",
       "      <td>13</td>\n",
       "    </tr>\n",
       "    <tr>\n",
       "      <th>9</th>\n",
       "      <td>birthday kiss   madison wisconsin</td>\n",
       "      <td>9</td>\n",
       "    </tr>\n",
       "  </tbody>\n",
       "</table>\n",
       "</div>"
      ],
      "text/plain": [
       "                                               Tweet  Label\n",
       "0     little throwback favourite person   water wall      0\n",
       "1         glam   yesterday kcon makeup   featherette      7\n",
       "2  democracy plaza wake stunning outcome decision...     11\n",
       "3               amp vilo   walt disney magic kingdom      0\n",
       "4                                galaxy far far away      2\n",
       "5  dinner fla tonight   panseared salmon couscous...      1\n",
       "6  fav senior game congrats beating west   west s...      8\n",
       "7                got formal best friend   phi mu jsu      0\n",
       "8  cause miss little homies throwback cousinlove ...     13\n",
       "9                  birthday kiss   madison wisconsin      9"
      ]
     },
     "execution_count": 19,
     "metadata": {},
     "output_type": "execute_result"
    }
   ],
   "source": [
    "emoji_data[\"Tweet\"] = emoji_data[\"Tweet\"].apply(tweet_preprocessing)\n",
    "emoji_data.head(10)"
   ]
  },
  {
   "cell_type": "code",
   "execution_count": 20,
   "id": "0c403e93",
   "metadata": {},
   "outputs": [],
   "source": [
    "# Exporting the cleaned data for applying ML models\n",
    "emoji_data.to_csv('Cleaned_Twitter_Data.csv',index = False)"
   ]
  },
  {
   "cell_type": "code",
   "execution_count": 21,
   "id": "fad7fdac",
   "metadata": {},
   "outputs": [],
   "source": [
    "# Removing tweets which contains Null words\n",
    "indexnull = emoji_data[(emoji_data['Tweet'].isnull()) | \n",
    "                   (emoji_data['Tweet']==\" \") | (emoji_data['Tweet']==\"  \") |\n",
    "                  (emoji_data['Tweet']==\"   \")].index"
   ]
  },
  {
   "cell_type": "code",
   "execution_count": 22,
   "id": "d6ac63cf",
   "metadata": {},
   "outputs": [],
   "source": [
    "emoji_data.drop(indexnull , inplace=True)"
   ]
  },
  {
   "cell_type": "code",
   "execution_count": 23,
   "id": "48ce5efa",
   "metadata": {},
   "outputs": [
    {
     "data": {
      "text/plain": [
       "(49982, 2)"
      ]
     },
     "execution_count": 23,
     "metadata": {},
     "output_type": "execute_result"
    }
   ],
   "source": [
    "emoji_data.shape"
   ]
  },
  {
   "cell_type": "markdown",
   "id": "f2e93c26",
   "metadata": {},
   "source": [
    "## CountVectorizer on tweets for ML models"
   ]
  },
  {
   "cell_type": "code",
   "execution_count": 24,
   "id": "69a0fe06",
   "metadata": {},
   "outputs": [
    {
     "data": {
      "text/plain": [
       "['absence',\n",
       " 'absentee',\n",
       " 'absinthe',\n",
       " 'absolut',\n",
       " 'absolute',\n",
       " 'absolutely',\n",
       " 'absolutelybesutifulflower',\n",
       " 'absolutelythem',\n",
       " 'absolutly',\n",
       " 'abstract']"
      ]
     },
     "execution_count": 24,
     "metadata": {},
     "output_type": "execute_result"
    }
   ],
   "source": [
    "from sklearn.feature_extraction.text import CountVectorizer\n",
    "c_vect = CountVectorizer()\n",
    "X = c_vect.fit_transform(emoji_data[\"Tweet\"])\n",
    "c_vect.get_feature_names()[100:110]"
   ]
  },
  {
   "cell_type": "code",
   "execution_count": 25,
   "id": "b7d8eaec",
   "metadata": {},
   "outputs": [
    {
     "data": {
      "text/html": [
       "<div>\n",
       "<style scoped>\n",
       "    .dataframe tbody tr th:only-of-type {\n",
       "        vertical-align: middle;\n",
       "    }\n",
       "\n",
       "    .dataframe tbody tr th {\n",
       "        vertical-align: top;\n",
       "    }\n",
       "\n",
       "    .dataframe thead th {\n",
       "        text-align: right;\n",
       "    }\n",
       "</style>\n",
       "<table border=\"1\" class=\"dataframe\">\n",
       "  <thead>\n",
       "    <tr style=\"text-align: right;\">\n",
       "      <th></th>\n",
       "      <th>amp</th>\n",
       "      <th>away</th>\n",
       "      <th>beating</th>\n",
       "      <th>best</th>\n",
       "      <th>birthday</th>\n",
       "      <th>cause</th>\n",
       "      <th>congrats</th>\n",
       "      <th>couscous</th>\n",
       "      <th>cousinlove</th>\n",
       "      <th>decision</th>\n",
       "      <th>...</th>\n",
       "      <th>veggie</th>\n",
       "      <th>vilo</th>\n",
       "      <th>wake</th>\n",
       "      <th>wall</th>\n",
       "      <th>walt</th>\n",
       "      <th>water</th>\n",
       "      <th>west</th>\n",
       "      <th>wisconsin</th>\n",
       "      <th>yesterday</th>\n",
       "      <th>yum</th>\n",
       "    </tr>\n",
       "  </thead>\n",
       "  <tbody>\n",
       "    <tr>\n",
       "      <th>0</th>\n",
       "      <td>0</td>\n",
       "      <td>0</td>\n",
       "      <td>0</td>\n",
       "      <td>0</td>\n",
       "      <td>0</td>\n",
       "      <td>0</td>\n",
       "      <td>0</td>\n",
       "      <td>0</td>\n",
       "      <td>0</td>\n",
       "      <td>0</td>\n",
       "      <td>...</td>\n",
       "      <td>0</td>\n",
       "      <td>0</td>\n",
       "      <td>0</td>\n",
       "      <td>1</td>\n",
       "      <td>0</td>\n",
       "      <td>1</td>\n",
       "      <td>0</td>\n",
       "      <td>0</td>\n",
       "      <td>0</td>\n",
       "      <td>0</td>\n",
       "    </tr>\n",
       "    <tr>\n",
       "      <th>1</th>\n",
       "      <td>0</td>\n",
       "      <td>0</td>\n",
       "      <td>0</td>\n",
       "      <td>0</td>\n",
       "      <td>0</td>\n",
       "      <td>0</td>\n",
       "      <td>0</td>\n",
       "      <td>0</td>\n",
       "      <td>0</td>\n",
       "      <td>0</td>\n",
       "      <td>...</td>\n",
       "      <td>0</td>\n",
       "      <td>0</td>\n",
       "      <td>0</td>\n",
       "      <td>0</td>\n",
       "      <td>0</td>\n",
       "      <td>0</td>\n",
       "      <td>0</td>\n",
       "      <td>0</td>\n",
       "      <td>1</td>\n",
       "      <td>0</td>\n",
       "    </tr>\n",
       "    <tr>\n",
       "      <th>2</th>\n",
       "      <td>0</td>\n",
       "      <td>0</td>\n",
       "      <td>0</td>\n",
       "      <td>0</td>\n",
       "      <td>0</td>\n",
       "      <td>0</td>\n",
       "      <td>0</td>\n",
       "      <td>0</td>\n",
       "      <td>0</td>\n",
       "      <td>1</td>\n",
       "      <td>...</td>\n",
       "      <td>0</td>\n",
       "      <td>0</td>\n",
       "      <td>1</td>\n",
       "      <td>0</td>\n",
       "      <td>0</td>\n",
       "      <td>0</td>\n",
       "      <td>0</td>\n",
       "      <td>0</td>\n",
       "      <td>0</td>\n",
       "      <td>0</td>\n",
       "    </tr>\n",
       "    <tr>\n",
       "      <th>3</th>\n",
       "      <td>1</td>\n",
       "      <td>0</td>\n",
       "      <td>0</td>\n",
       "      <td>0</td>\n",
       "      <td>0</td>\n",
       "      <td>0</td>\n",
       "      <td>0</td>\n",
       "      <td>0</td>\n",
       "      <td>0</td>\n",
       "      <td>0</td>\n",
       "      <td>...</td>\n",
       "      <td>0</td>\n",
       "      <td>1</td>\n",
       "      <td>0</td>\n",
       "      <td>0</td>\n",
       "      <td>1</td>\n",
       "      <td>0</td>\n",
       "      <td>0</td>\n",
       "      <td>0</td>\n",
       "      <td>0</td>\n",
       "      <td>0</td>\n",
       "    </tr>\n",
       "    <tr>\n",
       "      <th>4</th>\n",
       "      <td>0</td>\n",
       "      <td>1</td>\n",
       "      <td>0</td>\n",
       "      <td>0</td>\n",
       "      <td>0</td>\n",
       "      <td>0</td>\n",
       "      <td>0</td>\n",
       "      <td>0</td>\n",
       "      <td>0</td>\n",
       "      <td>0</td>\n",
       "      <td>...</td>\n",
       "      <td>0</td>\n",
       "      <td>0</td>\n",
       "      <td>0</td>\n",
       "      <td>0</td>\n",
       "      <td>0</td>\n",
       "      <td>0</td>\n",
       "      <td>0</td>\n",
       "      <td>0</td>\n",
       "      <td>0</td>\n",
       "      <td>0</td>\n",
       "    </tr>\n",
       "    <tr>\n",
       "      <th>5</th>\n",
       "      <td>0</td>\n",
       "      <td>0</td>\n",
       "      <td>0</td>\n",
       "      <td>0</td>\n",
       "      <td>0</td>\n",
       "      <td>0</td>\n",
       "      <td>0</td>\n",
       "      <td>1</td>\n",
       "      <td>0</td>\n",
       "      <td>0</td>\n",
       "      <td>...</td>\n",
       "      <td>1</td>\n",
       "      <td>0</td>\n",
       "      <td>0</td>\n",
       "      <td>0</td>\n",
       "      <td>0</td>\n",
       "      <td>0</td>\n",
       "      <td>0</td>\n",
       "      <td>0</td>\n",
       "      <td>0</td>\n",
       "      <td>1</td>\n",
       "    </tr>\n",
       "    <tr>\n",
       "      <th>6</th>\n",
       "      <td>0</td>\n",
       "      <td>0</td>\n",
       "      <td>1</td>\n",
       "      <td>0</td>\n",
       "      <td>0</td>\n",
       "      <td>0</td>\n",
       "      <td>1</td>\n",
       "      <td>0</td>\n",
       "      <td>0</td>\n",
       "      <td>0</td>\n",
       "      <td>...</td>\n",
       "      <td>0</td>\n",
       "      <td>0</td>\n",
       "      <td>0</td>\n",
       "      <td>0</td>\n",
       "      <td>0</td>\n",
       "      <td>0</td>\n",
       "      <td>2</td>\n",
       "      <td>0</td>\n",
       "      <td>0</td>\n",
       "      <td>0</td>\n",
       "    </tr>\n",
       "    <tr>\n",
       "      <th>7</th>\n",
       "      <td>0</td>\n",
       "      <td>0</td>\n",
       "      <td>0</td>\n",
       "      <td>1</td>\n",
       "      <td>0</td>\n",
       "      <td>0</td>\n",
       "      <td>0</td>\n",
       "      <td>0</td>\n",
       "      <td>0</td>\n",
       "      <td>0</td>\n",
       "      <td>...</td>\n",
       "      <td>0</td>\n",
       "      <td>0</td>\n",
       "      <td>0</td>\n",
       "      <td>0</td>\n",
       "      <td>0</td>\n",
       "      <td>0</td>\n",
       "      <td>0</td>\n",
       "      <td>0</td>\n",
       "      <td>0</td>\n",
       "      <td>0</td>\n",
       "    </tr>\n",
       "    <tr>\n",
       "      <th>8</th>\n",
       "      <td>0</td>\n",
       "      <td>0</td>\n",
       "      <td>0</td>\n",
       "      <td>0</td>\n",
       "      <td>0</td>\n",
       "      <td>1</td>\n",
       "      <td>0</td>\n",
       "      <td>0</td>\n",
       "      <td>1</td>\n",
       "      <td>0</td>\n",
       "      <td>...</td>\n",
       "      <td>0</td>\n",
       "      <td>0</td>\n",
       "      <td>0</td>\n",
       "      <td>0</td>\n",
       "      <td>0</td>\n",
       "      <td>0</td>\n",
       "      <td>0</td>\n",
       "      <td>0</td>\n",
       "      <td>0</td>\n",
       "      <td>0</td>\n",
       "    </tr>\n",
       "    <tr>\n",
       "      <th>9</th>\n",
       "      <td>0</td>\n",
       "      <td>0</td>\n",
       "      <td>0</td>\n",
       "      <td>0</td>\n",
       "      <td>1</td>\n",
       "      <td>0</td>\n",
       "      <td>0</td>\n",
       "      <td>0</td>\n",
       "      <td>0</td>\n",
       "      <td>0</td>\n",
       "      <td>...</td>\n",
       "      <td>0</td>\n",
       "      <td>0</td>\n",
       "      <td>0</td>\n",
       "      <td>0</td>\n",
       "      <td>0</td>\n",
       "      <td>0</td>\n",
       "      <td>0</td>\n",
       "      <td>1</td>\n",
       "      <td>0</td>\n",
       "      <td>0</td>\n",
       "    </tr>\n",
       "  </tbody>\n",
       "</table>\n",
       "<p>10 rows × 62 columns</p>\n",
       "</div>"
      ],
      "text/plain": [
       "   amp  away  beating  best  birthday  cause  congrats  couscous  cousinlove  \\\n",
       "0    0     0        0     0         0      0         0         0           0   \n",
       "1    0     0        0     0         0      0         0         0           0   \n",
       "2    0     0        0     0         0      0         0         0           0   \n",
       "3    1     0        0     0         0      0         0         0           0   \n",
       "4    0     1        0     0         0      0         0         0           0   \n",
       "5    0     0        0     0         0      0         0         1           0   \n",
       "6    0     0        1     0         0      0         1         0           0   \n",
       "7    0     0        0     1         0      0         0         0           0   \n",
       "8    0     0        0     0         0      1         0         0           1   \n",
       "9    0     0        0     0         1      0         0         0           0   \n",
       "\n",
       "   decision  ...  veggie  vilo  wake  wall  walt  water  west  wisconsin  \\\n",
       "0         0  ...       0     0     0     1     0      1     0          0   \n",
       "1         0  ...       0     0     0     0     0      0     0          0   \n",
       "2         1  ...       0     0     1     0     0      0     0          0   \n",
       "3         0  ...       0     1     0     0     1      0     0          0   \n",
       "4         0  ...       0     0     0     0     0      0     0          0   \n",
       "5         0  ...       1     0     0     0     0      0     0          0   \n",
       "6         0  ...       0     0     0     0     0      0     2          0   \n",
       "7         0  ...       0     0     0     0     0      0     0          0   \n",
       "8         0  ...       0     0     0     0     0      0     0          0   \n",
       "9         0  ...       0     0     0     0     0      0     0          1   \n",
       "\n",
       "   yesterday  yum  \n",
       "0          0    0  \n",
       "1          1    0  \n",
       "2          0    0  \n",
       "3          0    0  \n",
       "4          0    0  \n",
       "5          0    1  \n",
       "6          0    0  \n",
       "7          0    0  \n",
       "8          0    0  \n",
       "9          0    0  \n",
       "\n",
       "[10 rows x 62 columns]"
      ]
     },
     "execution_count": 25,
     "metadata": {},
     "output_type": "execute_result"
    }
   ],
   "source": [
    "from sklearn.feature_extraction.text import CountVectorizer\n",
    "emoji_data_mini = emoji_data.iloc[:10]                # For sample applying CountVectorizer on 10 rows of data. \n",
    "c_vect = CountVectorizer()\n",
    "X_mini = c_vect.fit_transform(emoji_data_mini[\"Tweet\"])\n",
    "x = X_mini.toarray()\n",
    "count_vec = pd.DataFrame(x)\n",
    "count_vec.columns = c_vect.get_feature_names()\n",
    "count_vec"
   ]
  },
  {
   "cell_type": "markdown",
   "id": "47855b8d",
   "metadata": {},
   "source": [
    "#### from the above output we can see that for 10 rows of tweets, 62 columns are generated. In similar way for all the 49982 rows of tweets, 54382 columns are generated by applying CountVectorizer"
   ]
  },
  {
   "cell_type": "markdown",
   "id": "831dba0f",
   "metadata": {},
   "source": [
    "## Train Test Split"
   ]
  },
  {
   "cell_type": "code",
   "execution_count": 26,
   "id": "64802787",
   "metadata": {},
   "outputs": [],
   "source": [
    "from sklearn.model_selection import train_test_split\n",
    "y = emoji_data[\"Label\"].values\n",
    "X_train, X_test ,y_train, y_test = train_test_split(X, y, test_size=0.15, random_state=101)"
   ]
  },
  {
   "cell_type": "code",
   "execution_count": 27,
   "id": "abe76e8e",
   "metadata": {},
   "outputs": [
    {
     "data": {
      "text/plain": [
       "(42484, 54382)"
      ]
     },
     "execution_count": 27,
     "metadata": {},
     "output_type": "execute_result"
    }
   ],
   "source": [
    "X_train.shape"
   ]
  },
  {
   "cell_type": "code",
   "execution_count": 28,
   "id": "b2ee085d",
   "metadata": {},
   "outputs": [
    {
     "data": {
      "text/plain": [
       "(42484,)"
      ]
     },
     "execution_count": 28,
     "metadata": {},
     "output_type": "execute_result"
    }
   ],
   "source": [
    "y_train.shape"
   ]
  },
  {
   "cell_type": "code",
   "execution_count": 29,
   "id": "b4c1d4c9",
   "metadata": {},
   "outputs": [
    {
     "data": {
      "text/plain": [
       "(7498,)"
      ]
     },
     "execution_count": 29,
     "metadata": {},
     "output_type": "execute_result"
    }
   ],
   "source": [
    "y_test.shape"
   ]
  },
  {
   "cell_type": "code",
   "execution_count": 30,
   "id": "58a3dad1",
   "metadata": {},
   "outputs": [
    {
     "data": {
      "text/plain": [
       "(7498, 54382)"
      ]
     },
     "execution_count": 30,
     "metadata": {},
     "output_type": "execute_result"
    }
   ],
   "source": [
    "X_test.shape"
   ]
  },
  {
   "cell_type": "markdown",
   "id": "e96648a5",
   "metadata": {},
   "source": [
    "### Multinomial Naive Bayes"
   ]
  },
  {
   "cell_type": "code",
   "execution_count": 31,
   "id": "49ab0748",
   "metadata": {},
   "outputs": [
    {
     "data": {
      "text/plain": [
       "MultinomialNB()"
      ]
     },
     "execution_count": 31,
     "metadata": {},
     "output_type": "execute_result"
    }
   ],
   "source": [
    "from sklearn.naive_bayes import MultinomialNB\n",
    "\n",
    "\n",
    "NB_classifier = MultinomialNB()\n",
    "NB_classifier.fit(X_train, y_train)"
   ]
  },
  {
   "cell_type": "code",
   "execution_count": 32,
   "id": "9f4bbbfc",
   "metadata": {},
   "outputs": [],
   "source": [
    "from sklearn.metrics import classification_report, confusion_matrix\n",
    "\n",
    "y_predict_test = NB_classifier.predict(X_test)"
   ]
  },
  {
   "cell_type": "code",
   "execution_count": 33,
   "id": "d227e6d1",
   "metadata": {},
   "outputs": [
    {
     "name": "stdout",
     "output_type": "stream",
     "text": [
      "              precision    recall  f1-score   support\n",
      "\n",
      "           0       0.25      0.85      0.39      1622\n",
      "           1       0.21      0.15      0.18       771\n",
      "           2       0.39      0.43      0.41       828\n",
      "           3       0.11      0.01      0.02       453\n",
      "           4       0.41      0.23      0.29       338\n",
      "           5       0.14      0.01      0.02       342\n",
      "           6       0.24      0.02      0.04       311\n",
      "           7       0.27      0.04      0.07       311\n",
      "           8       0.50      0.02      0.03       263\n",
      "           9       0.20      0.00      0.01       232\n",
      "          10       0.32      0.03      0.06       226\n",
      "          11       0.80      0.24      0.37       216\n",
      "          12       0.58      0.16      0.25       248\n",
      "          13       0.20      0.01      0.01       187\n",
      "          14       0.00      0.00      0.00       209\n",
      "          15       0.71      0.02      0.05       215\n",
      "          16       0.00      0.00      0.00       183\n",
      "          17       0.72      0.18      0.29       201\n",
      "          18       0.33      0.02      0.03       182\n",
      "          19       0.50      0.01      0.01       160\n",
      "\n",
      "    accuracy                           0.28      7498\n",
      "   macro avg       0.34      0.12      0.13      7498\n",
      "weighted avg       0.31      0.28      0.20      7498\n",
      "\n"
     ]
    }
   ],
   "source": [
    "print(classification_report(y_test, y_predict_test))"
   ]
  },
  {
   "cell_type": "markdown",
   "id": "c39cad1a",
   "metadata": {},
   "source": [
    "### Support Vector Machine"
   ]
  },
  {
   "cell_type": "code",
   "execution_count": 34,
   "id": "5f4c2671",
   "metadata": {},
   "outputs": [
    {
     "data": {
      "text/plain": [
       "SVC()"
      ]
     },
     "execution_count": 34,
     "metadata": {},
     "output_type": "execute_result"
    }
   ],
   "source": [
    "from sklearn.svm import SVC\n",
    "\n",
    "clf = SVC()\n",
    "clf.fit(X_train, y_train)"
   ]
  },
  {
   "cell_type": "code",
   "execution_count": 35,
   "id": "39e8589c",
   "metadata": {},
   "outputs": [],
   "source": [
    "y_predict_test = clf.predict(X_test)"
   ]
  },
  {
   "cell_type": "code",
   "execution_count": 36,
   "id": "65ef31e3",
   "metadata": {},
   "outputs": [
    {
     "name": "stdout",
     "output_type": "stream",
     "text": [
      "              precision    recall  f1-score   support\n",
      "\n",
      "           0       0.26      0.89      0.40      1622\n",
      "           1       0.32      0.10      0.15       771\n",
      "           2       0.39      0.40      0.40       828\n",
      "           3       0.00      0.00      0.00       453\n",
      "           4       0.57      0.28      0.37       338\n",
      "           5       0.00      0.00      0.00       342\n",
      "           6       0.47      0.02      0.04       311\n",
      "           7       0.43      0.07      0.12       311\n",
      "           8       0.32      0.03      0.06       263\n",
      "           9       0.67      0.01      0.02       232\n",
      "          10       0.50      0.03      0.05       226\n",
      "          11       0.73      0.38      0.50       216\n",
      "          12       0.46      0.40      0.42       248\n",
      "          13       0.67      0.01      0.02       187\n",
      "          14       0.00      0.00      0.00       209\n",
      "          15       0.50      0.00      0.01       215\n",
      "          16       0.00      0.00      0.00       183\n",
      "          17       0.64      0.63      0.63       201\n",
      "          18       0.50      0.03      0.05       182\n",
      "          19       1.00      0.01      0.01       160\n",
      "\n",
      "    accuracy                           0.31      7498\n",
      "   macro avg       0.42      0.16      0.16      7498\n",
      "weighted avg       0.36      0.31      0.22      7498\n",
      "\n"
     ]
    }
   ],
   "source": [
    "print(classification_report(y_test, y_predict_test))"
   ]
  },
  {
   "cell_type": "code",
   "execution_count": 37,
   "id": "7f3f1841",
   "metadata": {},
   "outputs": [],
   "source": [
    "from sklearn.linear_model import LogisticRegression"
   ]
  },
  {
   "cell_type": "code",
   "execution_count": 38,
   "id": "5e1ff96d",
   "metadata": {},
   "outputs": [],
   "source": [
    "def model_Evaluate(model):\n",
    "    \n",
    "    # Predict values for Test dataset\n",
    "    y_pred = model.predict(X_test)\n",
    "\n",
    "    # Print the evaluation metrics for the dataset.\n",
    "    print(classification_report(y_test, y_pred))"
   ]
  },
  {
   "cell_type": "markdown",
   "id": "497cbfbe",
   "metadata": {},
   "source": [
    "### LogisticRegression"
   ]
  },
  {
   "cell_type": "code",
   "execution_count": 39,
   "id": "1e69847e",
   "metadata": {},
   "outputs": [
    {
     "name": "stdout",
     "output_type": "stream",
     "text": [
      "              precision    recall  f1-score   support\n",
      "\n",
      "           0       0.30      0.57      0.39      1622\n",
      "           1       0.20      0.22      0.21       771\n",
      "           2       0.35      0.43      0.39       828\n",
      "           3       0.13      0.07      0.09       453\n",
      "           4       0.36      0.36      0.36       338\n",
      "           5       0.10      0.06      0.07       342\n",
      "           6       0.14      0.10      0.12       311\n",
      "           7       0.22      0.13      0.16       311\n",
      "           8       0.18      0.10      0.12       263\n",
      "           9       0.11      0.05      0.07       232\n",
      "          10       0.20      0.09      0.12       226\n",
      "          11       0.57      0.48      0.52       216\n",
      "          12       0.43      0.38      0.40       248\n",
      "          13       0.13      0.05      0.07       187\n",
      "          14       0.07      0.03      0.04       209\n",
      "          15       0.25      0.11      0.15       215\n",
      "          16       0.09      0.03      0.05       183\n",
      "          17       0.65      0.56      0.60       201\n",
      "          18       0.16      0.09      0.11       182\n",
      "          19       0.08      0.03      0.05       160\n",
      "\n",
      "    accuracy                           0.28      7498\n",
      "   macro avg       0.24      0.20      0.20      7498\n",
      "weighted avg       0.25      0.28      0.25      7498\n",
      "\n"
     ]
    }
   ],
   "source": [
    "LRmodel = LogisticRegression(C = 2, max_iter = 1000, n_jobs=-1)\n",
    "LRmodel.fit(X_train, y_train)\n",
    "model_Evaluate(LRmodel)"
   ]
  },
  {
   "cell_type": "markdown",
   "id": "5199c05d",
   "metadata": {},
   "source": [
    "### Decision Tree"
   ]
  },
  {
   "cell_type": "code",
   "execution_count": 40,
   "id": "3fa14741",
   "metadata": {},
   "outputs": [
    {
     "name": "stdout",
     "output_type": "stream",
     "text": [
      "              precision    recall  f1-score   support\n",
      "\n",
      "           0       0.29      0.44      0.35      1622\n",
      "           1       0.15      0.15      0.15       771\n",
      "           2       0.25      0.38      0.30       828\n",
      "           3       0.11      0.06      0.07       453\n",
      "           4       0.24      0.26      0.25       338\n",
      "           5       0.06      0.06      0.06       342\n",
      "           6       0.08      0.05      0.06       311\n",
      "           7       0.14      0.06      0.09       311\n",
      "           8       0.10      0.07      0.08       263\n",
      "           9       0.08      0.06      0.07       232\n",
      "          10       0.14      0.08      0.10       226\n",
      "          11       0.41      0.38      0.39       216\n",
      "          12       0.33      0.34      0.34       248\n",
      "          13       0.04      0.02      0.03       187\n",
      "          14       0.05      0.02      0.03       209\n",
      "          15       0.07      0.04      0.05       215\n",
      "          16       0.03      0.02      0.03       183\n",
      "          17       0.55      0.65      0.59       201\n",
      "          18       0.11      0.05      0.07       182\n",
      "          19       0.09      0.04      0.06       160\n",
      "\n",
      "    accuracy                           0.23      7498\n",
      "   macro avg       0.17      0.16      0.16      7498\n",
      "weighted avg       0.19      0.23      0.20      7498\n",
      "\n"
     ]
    }
   ],
   "source": [
    "#Fitting Decision Tree classifier to the training set  \n",
    "from sklearn.tree import DecisionTreeClassifier  \n",
    "\n",
    "DTmodel= DecisionTreeClassifier(criterion='entropy', random_state=0)  \n",
    "DTmodel.fit(X_train, y_train)\n",
    "model_Evaluate(DTmodel)"
   ]
  },
  {
   "cell_type": "markdown",
   "id": "25ae06ac",
   "metadata": {},
   "source": [
    "### Random Forest "
   ]
  },
  {
   "cell_type": "code",
   "execution_count": 41,
   "id": "c934901f",
   "metadata": {},
   "outputs": [
    {
     "name": "stdout",
     "output_type": "stream",
     "text": [
      "              precision    recall  f1-score   support\n",
      "\n",
      "           0       0.27      0.50      0.35      1622\n",
      "           1       0.15      0.15      0.15       771\n",
      "           2       0.24      0.38      0.30       828\n",
      "           3       0.09      0.06      0.07       453\n",
      "           4       0.28      0.23      0.25       338\n",
      "           5       0.07      0.06      0.06       342\n",
      "           6       0.08      0.04      0.05       311\n",
      "           7       0.16      0.05      0.07       311\n",
      "           8       0.09      0.03      0.05       263\n",
      "           9       0.06      0.04      0.05       232\n",
      "          10       0.11      0.03      0.05       226\n",
      "          11       0.45      0.39      0.42       216\n",
      "          12       0.36      0.34      0.35       248\n",
      "          13       0.05      0.02      0.03       187\n",
      "          14       0.02      0.00      0.01       209\n",
      "          15       0.08      0.03      0.05       215\n",
      "          16       0.03      0.01      0.02       183\n",
      "          17       0.58      0.62      0.60       201\n",
      "          18       0.11      0.03      0.05       182\n",
      "          19       0.02      0.01      0.01       160\n",
      "\n",
      "    accuracy                           0.23      7498\n",
      "   macro avg       0.17      0.15      0.15      7498\n",
      "weighted avg       0.19      0.23      0.20      7498\n",
      "\n"
     ]
    }
   ],
   "source": [
    "#Fitting RandomForest classifier to the training set  \n",
    "from sklearn.ensemble import RandomForestClassifier  \n",
    "RFmodel= RandomForestClassifier(n_estimators= 10, criterion=\"entropy\")  \n",
    "RFmodel.fit(X_train, y_train) \n",
    "model_Evaluate(RFmodel)"
   ]
  },
  {
   "cell_type": "markdown",
   "id": "f727cb6d",
   "metadata": {},
   "source": [
    "### XGBoost"
   ]
  },
  {
   "cell_type": "code",
   "execution_count": 42,
   "id": "7cd75b9a",
   "metadata": {},
   "outputs": [
    {
     "name": "stdout",
     "output_type": "stream",
     "text": [
      "              precision    recall  f1-score   support\n",
      "\n",
      "           0       0.26      0.84      0.39      1622\n",
      "           1       0.33      0.14      0.20       771\n",
      "           2       0.45      0.32      0.37       828\n",
      "           3       0.22      0.02      0.04       453\n",
      "           4       0.55      0.32      0.40       338\n",
      "           5       0.17      0.01      0.02       342\n",
      "           6       0.33      0.07      0.12       311\n",
      "           7       0.41      0.11      0.17       311\n",
      "           8       0.35      0.07      0.12       263\n",
      "           9       0.26      0.03      0.05       232\n",
      "          10       0.29      0.05      0.08       226\n",
      "          11       0.67      0.47      0.55       216\n",
      "          12       0.43      0.38      0.40       248\n",
      "          13       0.36      0.03      0.05       187\n",
      "          14       0.09      0.00      0.01       209\n",
      "          15       0.30      0.04      0.07       215\n",
      "          16       0.17      0.01      0.02       183\n",
      "          17       0.59      0.71      0.65       201\n",
      "          18       0.22      0.06      0.09       182\n",
      "          19       0.00      0.00      0.00       160\n",
      "\n",
      "    accuracy                           0.31      7498\n",
      "   macro avg       0.32      0.18      0.19      7498\n",
      "weighted avg       0.32      0.31      0.24      7498\n",
      "\n"
     ]
    }
   ],
   "source": [
    "import xgboost as xgb\n",
    "\n",
    "xgb_classifier = xgb.XGBClassifier()\n",
    "xgb_classifier.fit(X_train, y_train)\n",
    "model_Evaluate(xgb_classifier)"
   ]
  }
 ],
 "metadata": {
  "kernelspec": {
   "display_name": "Python 3",
   "language": "python",
   "name": "python3"
  },
  "language_info": {
   "codemirror_mode": {
    "name": "ipython",
    "version": 3
   },
   "file_extension": ".py",
   "mimetype": "text/x-python",
   "name": "python",
   "nbconvert_exporter": "python",
   "pygments_lexer": "ipython3",
   "version": "3.8.8"
  }
 },
 "nbformat": 4,
 "nbformat_minor": 5
}
